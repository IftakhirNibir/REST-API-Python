{
 "cells": [
  {
   "cell_type": "markdown",
   "id": "879e8615",
   "metadata": {},
   "source": [
    "# Animal API"
   ]
  },
  {
   "cell_type": "markdown",
   "id": "9a287731",
   "metadata": {},
   "source": [
    "## This API is for Cat lover"
   ]
  },
  {
   "cell_type": "markdown",
   "id": "edeccff8",
   "metadata": {},
   "source": [
    "If someone wants a cute cat picture then they can use this free public API"
   ]
  },
  {
   "cell_type": "code",
   "execution_count": 8,
   "id": "47d17e06",
   "metadata": {},
   "outputs": [],
   "source": [
    "cat_photo = 'https://cataas.com/cat/cute'"
   ]
  },
  {
   "cell_type": "code",
   "execution_count": 10,
   "id": "b2a9012f",
   "metadata": {},
   "outputs": [
    {
     "name": "stdout",
     "output_type": "stream",
     "text": [
      "https://cataas.com/cat/cute\n"
     ]
    }
   ],
   "source": [
    "print(cat_photo)"
   ]
  },
  {
   "cell_type": "markdown",
   "id": "9f19b818",
   "metadata": {},
   "source": [
    "### Cat pictures with API status code "
   ]
  },
  {
   "cell_type": "markdown",
   "id": "5dccd777",
   "metadata": {},
   "source": [
    "Main Documentation: https://http.cat/"
   ]
  },
  {
   "cell_type": "code",
   "execution_count": 74,
   "id": "fb2bc837",
   "metadata": {},
   "outputs": [
    {
     "name": "stdout",
     "output_type": "stream",
     "text": [
      "Enter a status code: 201\n",
      "https://http.cat/201\n"
     ]
    }
   ],
   "source": [
    "status_code = input('Enter a status code: ')\n",
    "picture = f'https://http.cat/{status_code}'\n",
    "print(picture)"
   ]
  },
  {
   "cell_type": "markdown",
   "id": "6e2cb7c0",
   "metadata": {},
   "source": [
    "## This API is for Dog lover"
   ]
  },
  {
   "cell_type": "markdown",
   "id": "5db6cd16",
   "metadata": {},
   "source": [
    "Main Documentation: https://dog.ceo/dog-api/"
   ]
  },
  {
   "cell_type": "markdown",
   "id": "1ab19f85",
   "metadata": {},
   "source": [
    "If someone wants a dog picture then they can use this free public API"
   ]
  },
  {
   "cell_type": "code",
   "execution_count": 11,
   "id": "14745986",
   "metadata": {},
   "outputs": [],
   "source": [
    "import requests\n",
    "import json"
   ]
  },
  {
   "cell_type": "code",
   "execution_count": 30,
   "id": "6904e296",
   "metadata": {},
   "outputs": [],
   "source": [
    "dog_photo = requests.get('https://dog.ceo/api/breeds/image/random')"
   ]
  },
  {
   "cell_type": "code",
   "execution_count": 31,
   "id": "04b5db77",
   "metadata": {},
   "outputs": [
    {
     "data": {
      "text/plain": [
       "<Response [200]>"
      ]
     },
     "execution_count": 31,
     "metadata": {},
     "output_type": "execute_result"
    }
   ],
   "source": [
    "dog_photo"
   ]
  },
  {
   "cell_type": "code",
   "execution_count": 32,
   "id": "b8203c43",
   "metadata": {},
   "outputs": [
    {
     "data": {
      "text/plain": [
       "{'message': 'https://images.dog.ceo/breeds/affenpinscher/n02110627_735.jpg',\n",
       " 'status': 'success'}"
      ]
     },
     "execution_count": 32,
     "metadata": {},
     "output_type": "execute_result"
    }
   ],
   "source": [
    "dog_photo.json()"
   ]
  },
  {
   "cell_type": "code",
   "execution_count": 33,
   "id": "4b4c82f1",
   "metadata": {},
   "outputs": [
    {
     "name": "stdout",
     "output_type": "stream",
     "text": [
      "https://images.dog.ceo/breeds/affenpinscher/n02110627_735.jpg\n"
     ]
    }
   ],
   "source": [
    "print(dog_photo.json()['message'])"
   ]
  },
  {
   "cell_type": "code",
   "execution_count": 44,
   "id": "f9f86cb0",
   "metadata": {},
   "outputs": [],
   "source": [
    "all_dogs_name = requests.get('https://dog.ceo/api/breeds/list/all')"
   ]
  },
  {
   "cell_type": "code",
   "execution_count": 45,
   "id": "c4886ec5",
   "metadata": {},
   "outputs": [
    {
     "data": {
      "text/plain": [
       "{'message': {'affenpinscher': [],\n",
       "  'african': [],\n",
       "  'airedale': [],\n",
       "  'akita': [],\n",
       "  'appenzeller': [],\n",
       "  'australian': ['shepherd'],\n",
       "  'basenji': [],\n",
       "  'beagle': [],\n",
       "  'bluetick': [],\n",
       "  'borzoi': [],\n",
       "  'bouvier': [],\n",
       "  'boxer': [],\n",
       "  'brabancon': [],\n",
       "  'briard': [],\n",
       "  'buhund': ['norwegian'],\n",
       "  'bulldog': ['boston', 'english', 'french'],\n",
       "  'bullterrier': ['staffordshire'],\n",
       "  'cattledog': ['australian'],\n",
       "  'chihuahua': [],\n",
       "  'chow': [],\n",
       "  'clumber': [],\n",
       "  'cockapoo': [],\n",
       "  'collie': ['border'],\n",
       "  'coonhound': [],\n",
       "  'corgi': ['cardigan'],\n",
       "  'cotondetulear': [],\n",
       "  'dachshund': [],\n",
       "  'dalmatian': [],\n",
       "  'dane': ['great'],\n",
       "  'deerhound': ['scottish'],\n",
       "  'dhole': [],\n",
       "  'dingo': [],\n",
       "  'doberman': [],\n",
       "  'elkhound': ['norwegian'],\n",
       "  'entlebucher': [],\n",
       "  'eskimo': [],\n",
       "  'finnish': ['lapphund'],\n",
       "  'frise': ['bichon'],\n",
       "  'germanshepherd': [],\n",
       "  'greyhound': ['italian'],\n",
       "  'groenendael': [],\n",
       "  'havanese': [],\n",
       "  'hound': ['afghan',\n",
       "   'basset',\n",
       "   'blood',\n",
       "   'english',\n",
       "   'ibizan',\n",
       "   'plott',\n",
       "   'walker'],\n",
       "  'husky': [],\n",
       "  'keeshond': [],\n",
       "  'kelpie': [],\n",
       "  'komondor': [],\n",
       "  'kuvasz': [],\n",
       "  'labradoodle': [],\n",
       "  'labrador': [],\n",
       "  'leonberg': [],\n",
       "  'lhasa': [],\n",
       "  'malamute': [],\n",
       "  'malinois': [],\n",
       "  'maltese': [],\n",
       "  'mastiff': ['bull', 'english', 'tibetan'],\n",
       "  'mexicanhairless': [],\n",
       "  'mix': [],\n",
       "  'mountain': ['bernese', 'swiss'],\n",
       "  'newfoundland': [],\n",
       "  'otterhound': [],\n",
       "  'ovcharka': ['caucasian'],\n",
       "  'papillon': [],\n",
       "  'pekinese': [],\n",
       "  'pembroke': [],\n",
       "  'pinscher': ['miniature'],\n",
       "  'pitbull': [],\n",
       "  'pointer': ['german', 'germanlonghair'],\n",
       "  'pomeranian': [],\n",
       "  'poodle': ['medium', 'miniature', 'standard', 'toy'],\n",
       "  'pug': [],\n",
       "  'puggle': [],\n",
       "  'pyrenees': [],\n",
       "  'redbone': [],\n",
       "  'retriever': ['chesapeake', 'curly', 'flatcoated', 'golden'],\n",
       "  'ridgeback': ['rhodesian'],\n",
       "  'rottweiler': [],\n",
       "  'saluki': [],\n",
       "  'samoyed': [],\n",
       "  'schipperke': [],\n",
       "  'schnauzer': ['giant', 'miniature'],\n",
       "  'segugio': ['italian'],\n",
       "  'setter': ['english', 'gordon', 'irish'],\n",
       "  'sharpei': [],\n",
       "  'sheepdog': ['english', 'shetland'],\n",
       "  'shiba': [],\n",
       "  'shihtzu': [],\n",
       "  'spaniel': ['blenheim',\n",
       "   'brittany',\n",
       "   'cocker',\n",
       "   'irish',\n",
       "   'japanese',\n",
       "   'sussex',\n",
       "   'welsh'],\n",
       "  'spitz': ['japanese'],\n",
       "  'springer': ['english'],\n",
       "  'stbernard': [],\n",
       "  'terrier': ['american',\n",
       "   'australian',\n",
       "   'bedlington',\n",
       "   'border',\n",
       "   'cairn',\n",
       "   'dandie',\n",
       "   'fox',\n",
       "   'irish',\n",
       "   'kerryblue',\n",
       "   'lakeland',\n",
       "   'norfolk',\n",
       "   'norwich',\n",
       "   'patterdale',\n",
       "   'russell',\n",
       "   'scottish',\n",
       "   'sealyham',\n",
       "   'silky',\n",
       "   'tibetan',\n",
       "   'toy',\n",
       "   'welsh',\n",
       "   'westhighland',\n",
       "   'wheaten',\n",
       "   'yorkshire'],\n",
       "  'tervuren': [],\n",
       "  'vizsla': [],\n",
       "  'waterdog': ['spanish'],\n",
       "  'weimaraner': [],\n",
       "  'whippet': [],\n",
       "  'wolfhound': ['irish']},\n",
       " 'status': 'success'}"
      ]
     },
     "execution_count": 45,
     "metadata": {},
     "output_type": "execute_result"
    }
   ],
   "source": [
    "all_dogs_name.json()"
   ]
  },
  {
   "cell_type": "code",
   "execution_count": 46,
   "id": "64e4675e",
   "metadata": {},
   "outputs": [
    {
     "data": {
      "text/plain": [
       "{'affenpinscher': [],\n",
       " 'african': [],\n",
       " 'airedale': [],\n",
       " 'akita': [],\n",
       " 'appenzeller': [],\n",
       " 'australian': ['shepherd'],\n",
       " 'basenji': [],\n",
       " 'beagle': [],\n",
       " 'bluetick': [],\n",
       " 'borzoi': [],\n",
       " 'bouvier': [],\n",
       " 'boxer': [],\n",
       " 'brabancon': [],\n",
       " 'briard': [],\n",
       " 'buhund': ['norwegian'],\n",
       " 'bulldog': ['boston', 'english', 'french'],\n",
       " 'bullterrier': ['staffordshire'],\n",
       " 'cattledog': ['australian'],\n",
       " 'chihuahua': [],\n",
       " 'chow': [],\n",
       " 'clumber': [],\n",
       " 'cockapoo': [],\n",
       " 'collie': ['border'],\n",
       " 'coonhound': [],\n",
       " 'corgi': ['cardigan'],\n",
       " 'cotondetulear': [],\n",
       " 'dachshund': [],\n",
       " 'dalmatian': [],\n",
       " 'dane': ['great'],\n",
       " 'deerhound': ['scottish'],\n",
       " 'dhole': [],\n",
       " 'dingo': [],\n",
       " 'doberman': [],\n",
       " 'elkhound': ['norwegian'],\n",
       " 'entlebucher': [],\n",
       " 'eskimo': [],\n",
       " 'finnish': ['lapphund'],\n",
       " 'frise': ['bichon'],\n",
       " 'germanshepherd': [],\n",
       " 'greyhound': ['italian'],\n",
       " 'groenendael': [],\n",
       " 'havanese': [],\n",
       " 'hound': ['afghan',\n",
       "  'basset',\n",
       "  'blood',\n",
       "  'english',\n",
       "  'ibizan',\n",
       "  'plott',\n",
       "  'walker'],\n",
       " 'husky': [],\n",
       " 'keeshond': [],\n",
       " 'kelpie': [],\n",
       " 'komondor': [],\n",
       " 'kuvasz': [],\n",
       " 'labradoodle': [],\n",
       " 'labrador': [],\n",
       " 'leonberg': [],\n",
       " 'lhasa': [],\n",
       " 'malamute': [],\n",
       " 'malinois': [],\n",
       " 'maltese': [],\n",
       " 'mastiff': ['bull', 'english', 'tibetan'],\n",
       " 'mexicanhairless': [],\n",
       " 'mix': [],\n",
       " 'mountain': ['bernese', 'swiss'],\n",
       " 'newfoundland': [],\n",
       " 'otterhound': [],\n",
       " 'ovcharka': ['caucasian'],\n",
       " 'papillon': [],\n",
       " 'pekinese': [],\n",
       " 'pembroke': [],\n",
       " 'pinscher': ['miniature'],\n",
       " 'pitbull': [],\n",
       " 'pointer': ['german', 'germanlonghair'],\n",
       " 'pomeranian': [],\n",
       " 'poodle': ['medium', 'miniature', 'standard', 'toy'],\n",
       " 'pug': [],\n",
       " 'puggle': [],\n",
       " 'pyrenees': [],\n",
       " 'redbone': [],\n",
       " 'retriever': ['chesapeake', 'curly', 'flatcoated', 'golden'],\n",
       " 'ridgeback': ['rhodesian'],\n",
       " 'rottweiler': [],\n",
       " 'saluki': [],\n",
       " 'samoyed': [],\n",
       " 'schipperke': [],\n",
       " 'schnauzer': ['giant', 'miniature'],\n",
       " 'segugio': ['italian'],\n",
       " 'setter': ['english', 'gordon', 'irish'],\n",
       " 'sharpei': [],\n",
       " 'sheepdog': ['english', 'shetland'],\n",
       " 'shiba': [],\n",
       " 'shihtzu': [],\n",
       " 'spaniel': ['blenheim',\n",
       "  'brittany',\n",
       "  'cocker',\n",
       "  'irish',\n",
       "  'japanese',\n",
       "  'sussex',\n",
       "  'welsh'],\n",
       " 'spitz': ['japanese'],\n",
       " 'springer': ['english'],\n",
       " 'stbernard': [],\n",
       " 'terrier': ['american',\n",
       "  'australian',\n",
       "  'bedlington',\n",
       "  'border',\n",
       "  'cairn',\n",
       "  'dandie',\n",
       "  'fox',\n",
       "  'irish',\n",
       "  'kerryblue',\n",
       "  'lakeland',\n",
       "  'norfolk',\n",
       "  'norwich',\n",
       "  'patterdale',\n",
       "  'russell',\n",
       "  'scottish',\n",
       "  'sealyham',\n",
       "  'silky',\n",
       "  'tibetan',\n",
       "  'toy',\n",
       "  'welsh',\n",
       "  'westhighland',\n",
       "  'wheaten',\n",
       "  'yorkshire'],\n",
       " 'tervuren': [],\n",
       " 'vizsla': [],\n",
       " 'waterdog': ['spanish'],\n",
       " 'weimaraner': [],\n",
       " 'whippet': [],\n",
       " 'wolfhound': ['irish']}"
      ]
     },
     "execution_count": 46,
     "metadata": {},
     "output_type": "execute_result"
    }
   ],
   "source": [
    "all_dogs_name.json()['message']"
   ]
  },
  {
   "cell_type": "code",
   "execution_count": 65,
   "id": "18e148c8",
   "metadata": {},
   "outputs": [
    {
     "name": "stdout",
     "output_type": "stream",
     "text": [
      "Dog name: affenpinscher\n",
      "Dog name: african\n",
      "Dog name: airedale\n",
      "Dog name: akita\n",
      "Dog name: appenzeller\n",
      "Dog name: australian -->\n",
      "it's variant shepherd\n",
      "Dog name: basenji\n",
      "Dog name: beagle\n",
      "Dog name: bluetick\n",
      "Dog name: borzoi\n",
      "Dog name: bouvier\n",
      "Dog name: boxer\n",
      "Dog name: brabancon\n",
      "Dog name: briard\n",
      "Dog name: buhund -->\n",
      "it's variant norwegian\n",
      "Dog name: bulldog -->\n",
      "it's variant boston\n",
      "it's variant english\n",
      "it's variant french\n",
      "Dog name: bullterrier -->\n",
      "it's variant staffordshire\n",
      "Dog name: cattledog -->\n",
      "it's variant australian\n",
      "Dog name: chihuahua\n",
      "Dog name: chow\n",
      "Dog name: clumber\n",
      "Dog name: cockapoo\n",
      "Dog name: collie -->\n",
      "it's variant border\n",
      "Dog name: coonhound\n",
      "Dog name: corgi -->\n",
      "it's variant cardigan\n",
      "Dog name: cotondetulear\n",
      "Dog name: dachshund\n",
      "Dog name: dalmatian\n",
      "Dog name: dane -->\n",
      "it's variant great\n",
      "Dog name: deerhound -->\n",
      "it's variant scottish\n",
      "Dog name: dhole\n",
      "Dog name: dingo\n",
      "Dog name: doberman\n",
      "Dog name: elkhound -->\n",
      "it's variant norwegian\n",
      "Dog name: entlebucher\n",
      "Dog name: eskimo\n",
      "Dog name: finnish -->\n",
      "it's variant lapphund\n",
      "Dog name: frise -->\n",
      "it's variant bichon\n",
      "Dog name: germanshepherd\n",
      "Dog name: greyhound -->\n",
      "it's variant italian\n",
      "Dog name: groenendael\n",
      "Dog name: havanese\n",
      "Dog name: hound -->\n",
      "it's variant afghan\n",
      "it's variant basset\n",
      "it's variant blood\n",
      "it's variant english\n",
      "it's variant ibizan\n",
      "it's variant plott\n",
      "it's variant walker\n",
      "Dog name: husky\n",
      "Dog name: keeshond\n",
      "Dog name: kelpie\n",
      "Dog name: komondor\n",
      "Dog name: kuvasz\n",
      "Dog name: labradoodle\n",
      "Dog name: labrador\n",
      "Dog name: leonberg\n",
      "Dog name: lhasa\n",
      "Dog name: malamute\n",
      "Dog name: malinois\n",
      "Dog name: maltese\n",
      "Dog name: mastiff -->\n",
      "it's variant bull\n",
      "it's variant english\n",
      "it's variant tibetan\n",
      "Dog name: mexicanhairless\n",
      "Dog name: mix\n",
      "Dog name: mountain -->\n",
      "it's variant bernese\n",
      "it's variant swiss\n",
      "Dog name: newfoundland\n",
      "Dog name: otterhound\n",
      "Dog name: ovcharka -->\n",
      "it's variant caucasian\n",
      "Dog name: papillon\n",
      "Dog name: pekinese\n",
      "Dog name: pembroke\n",
      "Dog name: pinscher -->\n",
      "it's variant miniature\n",
      "Dog name: pitbull\n",
      "Dog name: pointer -->\n",
      "it's variant german\n",
      "it's variant germanlonghair\n",
      "Dog name: pomeranian\n",
      "Dog name: poodle -->\n",
      "it's variant medium\n",
      "it's variant miniature\n",
      "it's variant standard\n",
      "it's variant toy\n",
      "Dog name: pug\n",
      "Dog name: puggle\n",
      "Dog name: pyrenees\n",
      "Dog name: redbone\n",
      "Dog name: retriever -->\n",
      "it's variant chesapeake\n",
      "it's variant curly\n",
      "it's variant flatcoated\n",
      "it's variant golden\n",
      "Dog name: ridgeback -->\n",
      "it's variant rhodesian\n",
      "Dog name: rottweiler\n",
      "Dog name: saluki\n",
      "Dog name: samoyed\n",
      "Dog name: schipperke\n",
      "Dog name: schnauzer -->\n",
      "it's variant giant\n",
      "it's variant miniature\n",
      "Dog name: segugio -->\n",
      "it's variant italian\n",
      "Dog name: setter -->\n",
      "it's variant english\n",
      "it's variant gordon\n",
      "it's variant irish\n",
      "Dog name: sharpei\n",
      "Dog name: sheepdog -->\n",
      "it's variant english\n",
      "it's variant shetland\n",
      "Dog name: shiba\n",
      "Dog name: shihtzu\n",
      "Dog name: spaniel -->\n",
      "it's variant blenheim\n",
      "it's variant brittany\n",
      "it's variant cocker\n",
      "it's variant irish\n",
      "it's variant japanese\n",
      "it's variant sussex\n",
      "it's variant welsh\n",
      "Dog name: spitz -->\n",
      "it's variant japanese\n",
      "Dog name: springer -->\n",
      "it's variant english\n",
      "Dog name: stbernard\n",
      "Dog name: terrier -->\n",
      "it's variant american\n",
      "it's variant australian\n",
      "it's variant bedlington\n",
      "it's variant border\n",
      "it's variant cairn\n",
      "it's variant dandie\n",
      "it's variant fox\n",
      "it's variant irish\n",
      "it's variant kerryblue\n",
      "it's variant lakeland\n",
      "it's variant norfolk\n",
      "it's variant norwich\n",
      "it's variant patterdale\n",
      "it's variant russell\n",
      "it's variant scottish\n",
      "it's variant sealyham\n",
      "it's variant silky\n",
      "it's variant tibetan\n",
      "it's variant toy\n",
      "it's variant welsh\n",
      "it's variant westhighland\n",
      "it's variant wheaten\n",
      "it's variant yorkshire\n",
      "Dog name: tervuren\n",
      "Dog name: vizsla\n",
      "Dog name: waterdog -->\n",
      "it's variant spanish\n",
      "Dog name: weimaraner\n",
      "Dog name: whippet\n",
      "Dog name: wolfhound -->\n",
      "it's variant irish\n"
     ]
    }
   ],
   "source": [
    "for name in all_dogs_name.json()['message']:\n",
    "    if len(all_dogs_name.json()['message'][name])==0:\n",
    "        print(f'Dog name: {name}')\n",
    "    else:\n",
    "        print(f'Dog name: {name} -->')\n",
    "        for variant in all_dogs_name.json()['message'][name]:\n",
    "            print(f'it\\'s variant {variant}')"
   ]
  },
  {
   "cell_type": "code",
   "execution_count": 70,
   "id": "4a03df18",
   "metadata": {},
   "outputs": [
    {
     "name": "stdout",
     "output_type": "stream",
     "text": [
      "Enter a dog name: bulldog\n",
      "Is there any variant? yes\n",
      "Enter variant name: english\n",
      "https://images.dog.ceo/breeds/bulldog-english/bunz.jpg\n"
     ]
    }
   ],
   "source": [
    "dog_name = input('Enter a dog name: ')\n",
    "variant =input('Is there any variant? ')\n",
    "if variant == 'yes':\n",
    "    variant_name = input('Enter variant name: ')\n",
    "else:\n",
    "    variant_name = ''\n",
    "find_dog_picture = f'https://dog.ceo/api/breed/{dog_name}/{variant_name}/images/random'\n",
    "dog_picture = requests.get(find_dog_picture)\n",
    "print(dog_picture.json()['message'])"
   ]
  },
  {
   "cell_type": "markdown",
   "id": "42010597",
   "metadata": {},
   "source": [
    "### Dog pictures with API status code "
   ]
  },
  {
   "cell_type": "markdown",
   "id": "f71e0a8e",
   "metadata": {},
   "source": [
    "main documentation: https://http.dog/"
   ]
  },
  {
   "cell_type": "code",
   "execution_count": 76,
   "id": "533f82d4",
   "metadata": {},
   "outputs": [
    {
     "name": "stdout",
     "output_type": "stream",
     "text": [
      "Enter a status code: 404\n",
      "https://http.dog/404.jpg\n"
     ]
    }
   ],
   "source": [
    "status_code = input('Enter a status code: ')\n",
    "picture = f'https://http.dog/{status_code}.jpg'\n",
    "print(picture)"
   ]
  },
  {
   "cell_type": "markdown",
   "id": "0bb47d91",
   "metadata": {},
   "source": [
    "## This API is for Duck lover"
   ]
  },
  {
   "cell_type": "markdown",
   "id": "b5502b5e",
   "metadata": {},
   "source": [
    "main documentation: https://random-d.uk/api"
   ]
  },
  {
   "cell_type": "code",
   "execution_count": 118,
   "id": "0069d924",
   "metadata": {},
   "outputs": [
    {
     "data": {
      "text/plain": [
       "<Response [200]>"
      ]
     },
     "execution_count": 118,
     "metadata": {},
     "output_type": "execute_result"
    }
   ],
   "source": [
    "duck_response = requests.get('https://random-d.uk/api/random', params={'Type':'JPG'})\n",
    "duck_response"
   ]
  },
  {
   "cell_type": "code",
   "execution_count": 119,
   "id": "e21f19f0",
   "metadata": {},
   "outputs": [
    {
     "data": {
      "text/plain": [
       "{'message': 'Powered by random-d.uk', 'url': 'https://random-d.uk/api/194.jpg'}"
      ]
     },
     "execution_count": 119,
     "metadata": {},
     "output_type": "execute_result"
    }
   ],
   "source": [
    "duck_response.json()"
   ]
  },
  {
   "cell_type": "code",
   "execution_count": 120,
   "id": "45683eec",
   "metadata": {},
   "outputs": [
    {
     "name": "stdout",
     "output_type": "stream",
     "text": [
      "https://random-d.uk/api/194.jpg Powered by random-d.uk\n"
     ]
    }
   ],
   "source": [
    "duck_picture = duck_response.json()['url']\n",
    "\n",
    "print(duck_picture, duck_message)"
   ]
  },
  {
   "cell_type": "markdown",
   "id": "c768072b",
   "metadata": {},
   "source": [
    "### All file names"
   ]
  },
  {
   "cell_type": "code",
   "execution_count": 157,
   "id": "b5ba3f7a",
   "metadata": {},
   "outputs": [
    {
     "data": {
      "text/plain": [
       "<Response [200]>"
      ]
     },
     "execution_count": 157,
     "metadata": {},
     "output_type": "execute_result"
    }
   ],
   "source": [
    "file_names = requests.get('https://random-d.uk/api/list')\n",
    "file_names"
   ]
  },
  {
   "cell_type": "code",
   "execution_count": 158,
   "id": "167d4a16",
   "metadata": {},
   "outputs": [
    {
     "data": {
      "text/plain": [
       "{'gif_count': 57,\n",
       " 'gifs': ['34.gif',\n",
       "  '32.gif',\n",
       "  '29.gif',\n",
       "  '42.gif',\n",
       "  '47.gif',\n",
       "  '2.gif',\n",
       "  '52.gif',\n",
       "  '27.gif',\n",
       "  '16.gif',\n",
       "  '6.gif',\n",
       "  '46.gif',\n",
       "  '26.gif',\n",
       "  '57.gif',\n",
       "  '12.gif',\n",
       "  '7.gif',\n",
       "  '31.gif',\n",
       "  '56.gif',\n",
       "  '1.gif',\n",
       "  '33.gif',\n",
       "  '18.gif',\n",
       "  '3.gif',\n",
       "  '36.gif',\n",
       "  '11.gif',\n",
       "  '51.gif',\n",
       "  '35.gif',\n",
       "  '49.gif',\n",
       "  '9.gif',\n",
       "  '38.gif',\n",
       "  '44.gif',\n",
       "  '43.gif',\n",
       "  '24.gif',\n",
       "  '37.gif',\n",
       "  '30.gif',\n",
       "  '23.gif',\n",
       "  '4.gif',\n",
       "  '55.gif',\n",
       "  '8.gif',\n",
       "  '41.gif',\n",
       "  '40.gif',\n",
       "  '50.gif',\n",
       "  '22.gif',\n",
       "  '14.gif',\n",
       "  '48.gif',\n",
       "  '54.gif',\n",
       "  '20.gif',\n",
       "  '53.gif',\n",
       "  '17.gif',\n",
       "  '39.gif',\n",
       "  '45.gif',\n",
       "  '13.gif',\n",
       "  '19.gif',\n",
       "  '10.gif',\n",
       "  '21.gif',\n",
       "  '5.gif',\n",
       "  '28.gif',\n",
       "  '15.gif',\n",
       "  '25.gif'],\n",
       " 'http': ['400.jpg',\n",
       "  '451.jpg',\n",
       "  '302.jpg',\n",
       "  '301.jpg',\n",
       "  '413.jpg',\n",
       "  '404.jpg',\n",
       "  '403.jpg',\n",
       "  '418.jpg',\n",
       "  '420.jpg',\n",
       "  '426.jpg',\n",
       "  '429.jpg',\n",
       "  '200.jpg',\n",
       "  '500.jpg',\n",
       "  '100.jpg',\n",
       "  '409.jpg'],\n",
       " 'image_count': 285,\n",
       " 'images': ['164.jpg',\n",
       "  '80.jpg',\n",
       "  '250.jpg',\n",
       "  '268.jpg',\n",
       "  '68.jpg',\n",
       "  '66.jpg',\n",
       "  '46.jpg',\n",
       "  '31.jpg',\n",
       "  '258.jpg',\n",
       "  '247.jpg',\n",
       "  '128.jpg',\n",
       "  '17.jpg',\n",
       "  '2.jpg',\n",
       "  '97.jpg',\n",
       "  '141.jpg',\n",
       "  '270.jpg',\n",
       "  '241.jpg',\n",
       "  '237.jpg',\n",
       "  '234.jpg',\n",
       "  '224.jpg',\n",
       "  '194.jpg',\n",
       "  '143.jpg',\n",
       "  '139.jpg',\n",
       "  '127.jpg',\n",
       "  '191.jpg',\n",
       "  '44.jpg',\n",
       "  '90.jpg',\n",
       "  '193.jpg',\n",
       "  '42.jpg',\n",
       "  '242.jpg',\n",
       "  '124.jpg',\n",
       "  '197.jpg',\n",
       "  '32.jpg',\n",
       "  '235.jpg',\n",
       "  '262.jpg',\n",
       "  '152.jpg',\n",
       "  '72.jpg',\n",
       "  '212.jpg',\n",
       "  '19.jpg',\n",
       "  '213.jpg',\n",
       "  '284.jpg',\n",
       "  '253.jpg',\n",
       "  '99.jpg',\n",
       "  '23.jpg',\n",
       "  '279.jpg',\n",
       "  '25.jpg',\n",
       "  '126.jpg',\n",
       "  '282.jpg',\n",
       "  '195.jpg',\n",
       "  '106.jpg',\n",
       "  '225.jpg',\n",
       "  '226.jpg',\n",
       "  '172.jpg',\n",
       "  '111.jpg',\n",
       "  '55.jpg',\n",
       "  '24.jpg',\n",
       "  '6.jpg',\n",
       "  '165.jpg',\n",
       "  '178.jpg',\n",
       "  '112.jpg',\n",
       "  '14.jpg',\n",
       "  '92.jpg',\n",
       "  '249.jpg',\n",
       "  '94.jpg',\n",
       "  '245.jpg',\n",
       "  '153.jpg',\n",
       "  '129.jpg',\n",
       "  '115.jpg',\n",
       "  '140.jpg',\n",
       "  '276.jpg',\n",
       "  '88.jpg',\n",
       "  '188.jpg',\n",
       "  '63.jpg',\n",
       "  '4.jpg',\n",
       "  '93.jpg',\n",
       "  '267.jpg',\n",
       "  '118.jpg',\n",
       "  '220.jpg',\n",
       "  '277.jpg',\n",
       "  '130.jpg',\n",
       "  '53.jpg',\n",
       "  '3.jpg',\n",
       "  '28.jpg',\n",
       "  '86.jpg',\n",
       "  '158.jpg',\n",
       "  '18.jpg',\n",
       "  '27.jpg',\n",
       "  '87.jpg',\n",
       "  '74.jpg',\n",
       "  '260.jpg',\n",
       "  '233.jpg',\n",
       "  '57.jpg',\n",
       "  '171.jpg',\n",
       "  '150.jpg',\n",
       "  '206.jpg',\n",
       "  '221.jpg',\n",
       "  '69.jpg',\n",
       "  '265.jpg',\n",
       "  '67.jpg',\n",
       "  '133.jpg',\n",
       "  '36.jpg',\n",
       "  '89.jpg',\n",
       "  '248.jpg',\n",
       "  '196.jpg',\n",
       "  '214.jpg',\n",
       "  '8.jpg',\n",
       "  '48.jpg',\n",
       "  '156.jpg',\n",
       "  '11.jpg',\n",
       "  '203.jpg',\n",
       "  '59.jpg',\n",
       "  '9.jpg',\n",
       "  '34.jpg',\n",
       "  '39.jpg',\n",
       "  '187.jpg',\n",
       "  '190.jpg',\n",
       "  '62.jpg',\n",
       "  '151.jpg',\n",
       "  '223.jpg',\n",
       "  '175.jpg',\n",
       "  '202.jpg',\n",
       "  '45.jpg',\n",
       "  '207.jpg',\n",
       "  '105.jpg',\n",
       "  '181.jpg',\n",
       "  '26.jpg',\n",
       "  '189.jpg',\n",
       "  '185.jpg',\n",
       "  '82.jpg',\n",
       "  '10.jpg',\n",
       "  '227.jpg',\n",
       "  '79.jpg',\n",
       "  '210.jpg',\n",
       "  '159.jpg',\n",
       "  '109.jpg',\n",
       "  '222.jpg',\n",
       "  '147.jpg',\n",
       "  '161.jpg',\n",
       "  '209.jpg',\n",
       "  '7.jpg',\n",
       "  '21.jpg',\n",
       "  '85.jpg',\n",
       "  '119.jpg',\n",
       "  '216.jpg',\n",
       "  '204.jpg',\n",
       "  '142.jpg',\n",
       "  '198.jpg',\n",
       "  '103.jpg',\n",
       "  '285.jpg',\n",
       "  '15.jpg',\n",
       "  '131.jpg',\n",
       "  '64.jpg',\n",
       "  '264.jpg',\n",
       "  '98.jpg',\n",
       "  '13.jpg',\n",
       "  '211.jpg',\n",
       "  '208.jpg',\n",
       "  '166.jpg',\n",
       "  '96.jpg',\n",
       "  '251.jpg',\n",
       "  '180.jpg',\n",
       "  '52.jpg',\n",
       "  '108.jpg',\n",
       "  '104.jpg',\n",
       "  '281.jpg',\n",
       "  '238.jpg',\n",
       "  '149.jpg',\n",
       "  '215.jpg',\n",
       "  '218.jpg',\n",
       "  '269.jpg',\n",
       "  '54.jpg',\n",
       "  '219.jpg',\n",
       "  '160.jpg',\n",
       "  '274.jpg',\n",
       "  '40.jpg',\n",
       "  '252.jpg',\n",
       "  '135.jpg',\n",
       "  '75.jpg',\n",
       "  '101.jpg',\n",
       "  '71.jpg',\n",
       "  '256.jpg',\n",
       "  '183.jpg',\n",
       "  '228.jpg',\n",
       "  '76.jpg',\n",
       "  '244.jpg',\n",
       "  '272.jpg',\n",
       "  '170.jpg',\n",
       "  '117.jpg',\n",
       "  '169.jpg',\n",
       "  '5.jpg',\n",
       "  '116.jpg',\n",
       "  '273.jpg',\n",
       "  '145.jpg',\n",
       "  '83.jpg',\n",
       "  '73.jpg',\n",
       "  '184.jpg',\n",
       "  '51.jpg',\n",
       "  '205.jpg',\n",
       "  '20.jpg',\n",
       "  '255.jpg',\n",
       "  '120.jpg',\n",
       "  '81.jpg',\n",
       "  '157.jpg',\n",
       "  '70.jpg',\n",
       "  '110.jpg',\n",
       "  '125.jpg',\n",
       "  '61.jpg',\n",
       "  '232.jpg',\n",
       "  '199.jpg',\n",
       "  '176.jpg',\n",
       "  '231.jpg',\n",
       "  '65.jpg',\n",
       "  '239.jpg',\n",
       "  '177.jpg',\n",
       "  '200.jpg',\n",
       "  '137.jpg',\n",
       "  '1.jpg',\n",
       "  '154.jpg',\n",
       "  '266.jpg',\n",
       "  '257.jpg',\n",
       "  '37.jpg',\n",
       "  '243.jpg',\n",
       "  '271.jpg',\n",
       "  '16.jpg',\n",
       "  '240.jpg',\n",
       "  '91.jpg',\n",
       "  '229.jpg',\n",
       "  '136.jpg',\n",
       "  '138.jpg',\n",
       "  '261.jpg',\n",
       "  '182.jpg',\n",
       "  '77.jpg',\n",
       "  '254.jpg',\n",
       "  '12.jpg',\n",
       "  '49.jpg',\n",
       "  '278.jpg',\n",
       "  '100.jpg',\n",
       "  '95.jpg',\n",
       "  '263.jpg',\n",
       "  '56.jpg',\n",
       "  '192.jpg',\n",
       "  '132.jpg',\n",
       "  '163.jpg',\n",
       "  '148.jpg',\n",
       "  '230.jpg',\n",
       "  '122.jpg',\n",
       "  '58.jpg',\n",
       "  '78.jpg',\n",
       "  '168.jpg',\n",
       "  '107.jpg',\n",
       "  '246.jpg',\n",
       "  '167.jpg',\n",
       "  '283.jpg',\n",
       "  '179.jpg',\n",
       "  '38.jpg',\n",
       "  '275.jpg',\n",
       "  '134.jpg',\n",
       "  '280.jpg',\n",
       "  '259.jpg',\n",
       "  '173.jpg',\n",
       "  '174.jpg',\n",
       "  '217.jpg',\n",
       "  '41.jpg',\n",
       "  '121.jpg',\n",
       "  '146.jpg',\n",
       "  '29.jpg',\n",
       "  '43.jpg',\n",
       "  '30.jpg',\n",
       "  '144.jpg',\n",
       "  '114.jpg',\n",
       "  '47.jpg',\n",
       "  '236.jpg',\n",
       "  '155.jpg',\n",
       "  '33.jpg',\n",
       "  '60.jpg',\n",
       "  '186.jpg',\n",
       "  '162.jpg',\n",
       "  '102.jpg',\n",
       "  '201.jpg',\n",
       "  '35.jpg',\n",
       "  '22.jpg',\n",
       "  '84.jpg',\n",
       "  '113.jpg',\n",
       "  '50.jpg',\n",
       "  '123.jpg']}"
      ]
     },
     "execution_count": 158,
     "metadata": {},
     "output_type": "execute_result"
    }
   ],
   "source": [
    "file_names.json()"
   ]
  },
  {
   "cell_type": "code",
   "execution_count": 137,
   "id": "9eb9aa60",
   "metadata": {},
   "outputs": [
    {
     "data": {
      "text/plain": [
       "'34.gif'"
      ]
     },
     "execution_count": 137,
     "metadata": {},
     "output_type": "execute_result"
    }
   ],
   "source": [
    "file_names.json()['gifs'][0]"
   ]
  },
  {
   "cell_type": "markdown",
   "id": "21fbf971",
   "metadata": {},
   "source": [
    "## This API is for Fox "
   ]
  },
  {
   "cell_type": "code",
   "execution_count": 165,
   "id": "abba41b9",
   "metadata": {},
   "outputs": [],
   "source": [
    "fox_json = requests.get('https://randomfox.ca/floof/')"
   ]
  },
  {
   "cell_type": "code",
   "execution_count": 166,
   "id": "dd2e4f6b",
   "metadata": {},
   "outputs": [
    {
     "data": {
      "text/plain": [
       "<Response [200]>"
      ]
     },
     "execution_count": 166,
     "metadata": {},
     "output_type": "execute_result"
    }
   ],
   "source": [
    "fox_json"
   ]
  },
  {
   "cell_type": "code",
   "execution_count": 167,
   "id": "5be1649b",
   "metadata": {},
   "outputs": [
    {
     "data": {
      "text/plain": [
       "{'image': 'https://randomfox.ca/images/102.jpg',\n",
       " 'link': 'https://randomfox.ca/?i=102'}"
      ]
     },
     "execution_count": 167,
     "metadata": {},
     "output_type": "execute_result"
    }
   ],
   "source": [
    "fox_json.json()"
   ]
  },
  {
   "cell_type": "code",
   "execution_count": 168,
   "id": "b553d37b",
   "metadata": {},
   "outputs": [
    {
     "name": "stdout",
     "output_type": "stream",
     "text": [
      "https://randomfox.ca/images/102.jpg\n"
     ]
    }
   ],
   "source": [
    "fox_image = fox_json.json()['image']\n",
    "print(fox_image)"
   ]
  },
  {
   "cell_type": "markdown",
   "id": "ea64fee1",
   "metadata": {},
   "source": [
    "## This API is for Bird Image"
   ]
  },
  {
   "cell_type": "code",
   "execution_count": 182,
   "id": "83aa5174",
   "metadata": {},
   "outputs": [
    {
     "data": {
      "text/plain": [
       "<Response [200]>"
      ]
     },
     "execution_count": 182,
     "metadata": {},
     "output_type": "execute_result"
    }
   ],
   "source": [
    "shibe = requests.get('http://shibe.online/api/birds')\n",
    "shibe"
   ]
  },
  {
   "cell_type": "code",
   "execution_count": 183,
   "id": "1d67be41",
   "metadata": {},
   "outputs": [
    {
     "name": "stdout",
     "output_type": "stream",
     "text": [
      "https://cdn.shibe.online/birds/8153b35aff35329031dc8b7801c1e9be1eb351c6.jpg\n"
     ]
    }
   ],
   "source": [
    "print(shibe.json()[0])"
   ]
  },
  {
   "cell_type": "markdown",
   "id": "742a35f7",
   "metadata": {},
   "source": [
    "In this way, we can get a bird picture randomly "
   ]
  }
 ],
 "metadata": {
  "kernelspec": {
   "display_name": "Python 3 (ipykernel)",
   "language": "python",
   "name": "python3"
  },
  "language_info": {
   "codemirror_mode": {
    "name": "ipython",
    "version": 3
   },
   "file_extension": ".py",
   "mimetype": "text/x-python",
   "name": "python",
   "nbconvert_exporter": "python",
   "pygments_lexer": "ipython3",
   "version": "3.9.6"
  }
 },
 "nbformat": 4,
 "nbformat_minor": 5
}
