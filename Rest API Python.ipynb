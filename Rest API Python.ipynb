{
 "cells": [
  {
   "attachments": {
    "image-2.png": {
     "image/png": "[encoded data removed]"
    }
   },
   "cell_type": "markdown",
   "id": "d14cdb93",
   "metadata": {},
   "source": [
    "API is stands for Application Programming Interface. This is basically a way two pieces of software can communicate with one another. Here we always have a server and a client. The client consumes information given from the server. The same way when we go to youtube.com, we're making a request and then that server gives back a response, it works exactly the same way with a Rest API, although instead of getting html, we 're going to get json.<br><br>\n",
    "Json is a language or a notation of describing information, it's just like text and it stands for JavaScript Object Notation. It's a way to notate what objects look like but it doesn't have to be done with javascript, it's supported in pretty much every language and this is now the standard for apis.<br><br>\n",
    "JSON is just a series of key value pairs, just like an object in javascript or like a dictionary in python. It is basically the language of communication and the api is what things we communicate, for example we want to get a list of users or update some comments etc that's all defined as api endpoints. \n",
    "\n",
    "![image-2.png](attachment:image-2.png)"
   ]
  },
  {
   "attachments": {
    "image.png": {
     "image/png": "[encoded data removed]"
    }
   },
   "cell_type": "markdown",
   "id": "9842ad8b",
   "metadata": {},
   "source": [
    "<b>GET</b> -> is used for Retrieve data<br>\n",
    "<b>POST</b> is used to write new data<br>\n",
    "<b>DELETE</b> - is used to delete junk<br>\n",
    "<b>PUT</b> - is used to write update data<br>\n",
    "These things correlate to the most popular things we have to do with the database, which is CRUD. For API, Create data is POST, Read data is GET, Update data is PUT and Delete data is Delete. <br>\n",
    "There is a confusing between POST and PUT. POST is used to add a resource, PUT is used to replace a resource.<br>\n",
    "POST/drinks<br>\n",
    "When we are adding new data we don't know what that id is going to be because that's auto-incremented in the database<br>\n",
    "PUT/drinks/605<br>\n",
    "PUT is designed to give the same result every time if we make the same request. It doesn't matter how many times we do this the same resourse exists and it doesn't hurt if we accidentally put that request numerous times. But in POST, if we add a new same drink again and again, in this situation we are not replacing anything, it's make a new record in that table or we could get an error on that second one if the drink name is defined to be unique. \n",
    "![image.png](attachment:image.png)\n",
    "<b>PATCH</b> is another method that can be used with the purpose of updating part of a resource, such as updating the description of a drink. If you’re working with small objects that are in memory, you could also use PUT and send the whole object back with its new state, replacing the old. "
   ]
  },
  {
   "cell_type": "markdown",
   "id": "13b187ce",
   "metadata": {},
   "source": [
    "Now we need to work with stackoverflow API. For working API we need to install something. <br>\n",
    "1. pip install requests"
   ]
  },
  {
   "cell_type": "markdown",
   "id": "fdfe4dcc",
   "metadata": {},
   "source": [
    "StackOverflow API's link is :\n",
    "<a href=\"https://api.stackexchange.com/\">StackOverflow API Documentation</a>\n",
    "<br>\n",
    "We want to gets all the questions on the site. So the questions API is : \"/2.3/questions?order=desc&sort=activity&site=stackoverflow\" "
   ]
  },
  {
   "cell_type": "code",
   "execution_count": 1,
   "id": "0a650220",
   "metadata": {},
   "outputs": [
    {
     "name": "stdout",
     "output_type": "stream",
     "text": [
      "Collecting requests\n",
      "  Using cached requests-2.31.0-py3-none-any.whl (62 kB)\n",
      "Collecting certifi>=2017.4.17\n",
      "  Using cached certifi-2023.11.17-py3-none-any.whl (162 kB)\n",
      "Collecting charset-normalizer<4,>=2\n",
      "  Using cached charset_normalizer-3.3.2-cp39-cp39-win_amd64.whl (100 kB)\n",
      "Collecting idna<4,>=2.5\n",
      "  Using cached idna-3.6-py3-none-any.whl (61 kB)\n",
      "Collecting urllib3<3,>=1.21.1\n",
      "  Using cached urllib3-2.1.0-py3-none-any.whl (104 kB)\n",
      "Installing collected packages: urllib3, idna, charset-normalizer, certifi, requests\n",
      "Successfully installed certifi-2023.11.17 charset-normalizer-3.3.2 idna-3.6 requests-2.31.0 urllib3-2.1.0\n"
     ]
    },
    {
     "name": "stderr",
     "output_type": "stream",
     "text": [
      "WARNING: You are using pip version 21.1.3; however, version 23.3.2 is available.\n",
      "You should consider upgrading via the 'd:\\self_study\\python crash course\\python api\\api_env\\scripts\\python.exe -m pip install --upgrade pip' command.\n"
     ]
    }
   ],
   "source": [
    "!pip install requests"
   ]
  },
  {
   "cell_type": "code",
   "execution_count": 3,
   "id": "10fa886e",
   "metadata": {},
   "outputs": [],
   "source": [
    "import requests\n",
    "import json"
   ]
  },
  {
   "cell_type": "code",
   "execution_count": 4,
   "id": "6edde35e",
   "metadata": {},
   "outputs": [],
   "source": [
    "response = requests.get('https://api.stackexchange.com/2.3/questions?order=desc&sort=activity&site=stackoverflow')"
   ]
  },
  {
   "cell_type": "code",
   "execution_count": 5,
   "id": "c53e3587",
   "metadata": {},
   "outputs": [
    {
     "name": "stdout",
     "output_type": "stream",
     "text": [
      "<Response [200]>\n"
     ]
    }
   ],
   "source": [
    "print(response)"
   ]
  },
  {
   "cell_type": "markdown",
   "id": "bf830450",
   "metadata": {},
   "source": [
    "Response 200 means ok!! But if we want to see data then we need to use json method. "
   ]
  },
  {
   "cell_type": "code",
   "execution_count": 6,
   "id": "f8dede50",
   "metadata": {},
   "outputs": [
    {
     "name": "stdout",
     "output_type": "stream",
     "text": [
      "{'items': [{'tags': ['sqlalchemy'], 'owner': {'account_id': 9000718, 'reputation': 677, 'user_id': 6709460, 'user_type': 'registered', 'accept_rate': 68, 'profile_image': 'https://www.gravatar.com/avatar/36b37e41d88fde8a2293b4557caba7f9?s=256&d=identicon&r=PG&f=y&so-version=2', 'display_name': 'Testing man', 'link': 'https://stackoverflow.com/users/6709460/testing-man'}, 'is_answered': False, 'view_count': 7, 'answer_count': 1, 'score': 0, 'last_activity_date': 1704575353, 'creation_date': 1704571183, 'question_id': 77770823, 'content_license': 'CC BY-SA 4.0', 'link': 'https://stackoverflow.com/questions/77770823/sqlalchemy-filter-values-based-on-not-null-value', 'title': 'SqlAlchemy .filter() values based on not Null value'}, {'tags': ['python', 'django-forms'], 'owner': {'account_id': 29728323, 'reputation': 1, 'user_id': 22783669, 'user_type': 'registered', 'profile_image': 'https://lh3.googleusercontent.com/a/ACg8ocI9Zf0E_ytl-5ZWBoFgq6_-d0aJtihGPEyCfww29LmY=k-s256', 'display_name': 'Urunar', 'link': 'https://stackoverflow.com/users/22783669/urunar'}, 'is_answered': False, 'view_count': 5, 'answer_count': 0, 'score': 0, 'last_activity_date': 1704575329, 'creation_date': 1704093574, 'last_edit_date': 1704575329, 'question_id': 77741219, 'content_license': 'CC BY-SA 4.0', 'link': 'https://stackoverflow.com/questions/77741219/django-forms-form-divides-fields-and-submit-button-in-separate-html-divs-how-t', 'title': 'django forms.Form divides fields and submit button in separate html div&#39;s. How to fix it?'}, {'tags': ['c++', 'c', 'sdl', 'game-development'], 'owner': {'account_id': 22131956, 'reputation': 1, 'user_id': 16383359, 'user_type': 'registered', 'profile_image': 'https://lh3.googleusercontent.com/a-/AOh14Gizt-nbXdlR-OezDs2564DfOInLBZBOBry0929tkQ=k-s256', 'display_name': 'LATIF ', 'link': 'https://stackoverflow.com/users/16383359/latif'}, 'is_answered': False, 'view_count': 2, 'answer_count': 0, 'score': 0, 'last_activity_date': 1704575288, 'creation_date': 1704575288, 'question_id': 77771028, 'content_license': 'CC BY-SA 4.0', 'link': 'https://stackoverflow.com/questions/77771028/sdl-sokoban-problem-when-the-player-pass-over-the-target-the-target-dissapea', 'title': 'SDL sokoban problem , when the player pass over the target , the target dissapear'}, {'tags': ['c#', 'c++', 'dll', 'cygwin', 'gnu'], 'owner': {'account_id': 7954826, 'reputation': 3, 'user_id': 6801979, 'user_type': 'registered', 'profile_image': 'https://i.stack.imgur.com/Oeuk3.png?s=256&g=1', 'display_name': 'nick.schachter', 'link': 'https://stackoverflow.com/users/6801979/nick-schachter'}, 'is_answered': False, 'view_count': 4, 'answer_count': 0, 'score': 0, 'last_activity_date': 1704575281, 'creation_date': 1704575281, 'question_id': 77771027, 'content_license': 'CC BY-SA 4.0', 'link': 'https://stackoverflow.com/questions/77771027/access-violation-when-calling-c-dll-from-c', 'title': 'Access Violation when calling C++ DLL from C#'}, {'tags': ['django', 'react-native', 'django-rest-framework', 'expo'], 'owner': {'account_id': 25327311, 'reputation': 9, 'user_id': 19147745, 'user_type': 'registered', 'profile_image': 'https://www.gravatar.com/avatar/6da9190b015a0b0292db513deee71b94?s=256&d=identicon&r=PG', 'display_name': 'Francisco Reinaudo', 'link': 'https://stackoverflow.com/users/19147745/francisco-reinaudo'}, 'is_answered': False, 'view_count': 12, 'answer_count': 1, 'score': 0, 'last_activity_date': 1704575272, 'creation_date': 1704568071, 'question_id': 77770671, 'content_license': 'CC BY-SA 4.0', 'link': 'https://stackoverflow.com/questions/77770671/expo-error-possible-undandled-promise-rejection', 'title': 'expo error &quot;possible undandled promise rejection&quot;'}, {'tags': ['macos', 'postgresql', 'homebrew'], 'owner': {'account_id': 373762, 'reputation': 3898, 'user_id': 723597, 'user_type': 'registered', 'accept_rate': 62, 'profile_image': 'https://www.gravatar.com/avatar/6583052605d97cd00338bb9c7d16846f?s=256&d=identicon&r=PG&f=y&so-version=2', 'display_name': 'LoveMeow', 'link': 'https://stackoverflow.com/users/723597/lovemeow'}, 'is_answered': True, 'view_count': 78418, 'accepted_answer_id': 33015649, 'answer_count': 8, 'score': 80, 'last_activity_date': 1704575271, 'creation_date': 1444306396, 'last_edit_date': 1492086165, 'question_id': 33015471, 'content_license': 'CC BY-SA 3.0', 'link': 'https://stackoverflow.com/questions/33015471/cannot-find-pg-hba-conf-and-postgreql-conf-file-on-os-x', 'title': 'Cannot find pg_hba.conf and postgreql.conf file on OS X?'}, {'tags': ['php', 'rounding'], 'owner': {'account_id': 12377885, 'reputation': 27, 'user_id': 9024852, 'user_type': 'registered', 'profile_image': 'https://graph.facebook.com/1719743458036488/picture?type=large', 'display_name': 'Igor Tarasov', 'link': 'https://stackoverflow.com/users/9024852/igor-tarasov'}, 'is_answered': False, 'view_count': 3, 'answer_count': 0, 'score': 0, 'last_activity_date': 1704575224, 'creation_date': 1704575224, 'question_id': 77771025, 'content_license': 'CC BY-SA 4.0', 'link': 'https://stackoverflow.com/questions/77771025/how-to-fix-php-round', 'title': 'How to fix php round?'}, {'tags': ['sql', 'mysql', 'sql-server', 'postgresql', 'oracle'], 'owner': {'account_id': 28816085, 'reputation': 1, 'user_id': 22069674, 'user_type': 'registered', 'profile_image': 'https://www.gravatar.com/avatar/1d91a4a255fc4b5e22da33d02cfbba64?s=256&d=identicon&r=PG&f=y&so-version=2', 'display_name': 'Itachi_16', 'link': 'https://stackoverflow.com/users/22069674/itachi-16'}, 'is_answered': False, 'view_count': 6, 'answer_count': 0, 'score': -1, 'last_activity_date': 1704575212, 'creation_date': 1704575212, 'question_id': 77771024, 'content_license': 'CC BY-SA 4.0', 'link': 'https://stackoverflow.com/questions/77771024/sql-how-to-return-the-rows-that-has-only-one-max-date-for-duplicate-row-num', 'title': 'sql how to return the rows that has only one max date for duplicate row_num'}, {'tags': ['flutter', 'flutter-dependencies', 'android-mediaplayer'], 'owner': {'account_id': 12382307, 'reputation': 1, 'user_id': 14508268, 'user_type': 'registered', 'profile_image': 'https://www.gravatar.com/avatar/63ffe5815c9106df9b5c86cca10cfb37?s=256&d=identicon&r=PG&f=y&so-version=2', 'display_name': 'David jorge', 'link': 'https://stackoverflow.com/users/14508268/david-jorge'}, 'is_answered': False, 'view_count': 5, 'answer_count': 0, 'score': 0, 'last_activity_date': 1704575206, 'creation_date': 1704574955, 'last_edit_date': 1704575206, 'question_id': 77771012, 'content_license': 'CC BY-SA 4.0', 'link': 'https://stackoverflow.com/questions/77771012/error-in-fluttersoundplayer-the-getter-onplayerstatechange-isnt-defined', 'title': 'Error in FlutterSoundPlayer: The getter &#39;onPlayerStateChange&#39; isn&#39;t defined'}, {'tags': ['android', 'json', 'gson'], 'owner': {'account_id': 14037282, 'reputation': 11, 'user_id': 11686832, 'user_type': 'registered', 'profile_image': 'https://lh4.googleusercontent.com/-Mnn0FR6wOy4/AAAAAAAAAAI/AAAAAAAAAgM/UlxlkhwWxu8/photo.jpg?sz=256', 'display_name': 'Yus', 'link': 'https://stackoverflow.com/users/11686832/yus'}, 'is_answered': False, 'view_count': 12031, 'answer_count': 3, 'score': 0, 'last_activity_date': 1704575205, 'creation_date': 1561258142, 'last_edit_date': 1561259304, 'question_id': 56720645, 'content_license': 'CC BY-SA 4.0', 'link': 'https://stackoverflow.com/questions/56720645/how-to-unrealize-a-json-using-gson-get-an-error', 'title': 'How to unrealize a json using GSON? Get an error'}, {'tags': ['c', 'node.js'], 'owner': {'account_id': 11047400, 'reputation': 241, 'user_id': 8112967, 'user_type': 'registered', 'accept_rate': 57, 'profile_image': 'https://www.gravatar.com/avatar/47336ef221bebcf64b60a045aff702b0?s=256&d=identicon&r=PG&f=y&so-version=2', 'display_name': 'ccying', 'link': 'https://stackoverflow.com/users/8112967/ccying'}, 'is_answered': False, 'view_count': 10081, 'answer_count': 3, 'score': 10, 'last_activity_date': 1704575205, 'creation_date': 1500819977, 'last_edit_date': 1500820121, 'question_id': 45266160, 'content_license': 'CC BY-SA 3.0', 'link': 'https://stackoverflow.com/questions/45266160/how-to-call-c-function-from-nodejs', 'title': 'How to call C function from nodeJS'}, {'tags': ['android', 'adb'], 'owner': {'user_type': 'does_not_exist', 'display_name': 'user7154703'}, 'is_answered': False, 'view_count': 8895, 'answer_count': 1, 'score': 1, 'last_activity_date': 1704575205, 'creation_date': 1481336719, 'last_edit_date': 1481337916, 'question_id': 41071542, 'content_license': 'CC BY-SA 3.0', 'link': 'https://stackoverflow.com/questions/41071542/android-adb-how-to-start-server-port-5555-without-connecting-device-throug', 'title': 'Android ADB : How to start server ( port 5555 ) without connecting device through USB'}, {'tags': ['php', 'mysql', 'odbc'], 'owner': {'account_id': 1262295, 'reputation': 897, 'user_id': 1220297, 'user_type': 'registered', 'accept_rate': 70, 'profile_image': 'https://www.gravatar.com/avatar/594a1db67bd78a4efa7f00edb3990bf1?s=256&d=identicon&r=PG', 'display_name': 'kimbebot', 'link': 'https://stackoverflow.com/users/1220297/kimbebot'}, 'is_answered': False, 'view_count': 11552, 'answer_count': 2, 'score': 2, 'last_activity_date': 1704575205, 'creation_date': 1330476886, 'question_id': 9492137, 'content_license': 'CC BY-SA 3.0', 'link': 'https://stackoverflow.com/questions/9492137/how-to-check-if-my-odbc-data-source-exist-in-php', 'title': 'How to check if my ODBC Data Source exist in PHP?'}, {'tags': ['bash', 'rsync'], 'owner': {'account_id': 30208216, 'reputation': 1, 'user_id': 23150782, 'user_type': 'registered', 'profile_image': 'https://www.gravatar.com/avatar/37cc01f58b670cfb3286c7da00474e82?s=256&d=identicon&r=PG&f=y&so-version=2', 'display_name': 'asdaiui', 'link': 'https://stackoverflow.com/users/23150782/asdaiui'}, 'is_answered': False, 'view_count': 16, 'answer_count': 1, 'score': 0, 'last_activity_date': 1704575162, 'creation_date': 1704574472, 'last_edit_date': 1704574648, 'question_id': 77770996, 'content_license': 'CC BY-SA 4.0', 'link': 'https://stackoverflow.com/questions/77770996/running-rsync-as-root-from-bash-script', 'title': 'Running rsync as root from bash script'}, {'tags': ['anki'], 'owner': {'account_id': 27884397, 'reputation': 25, 'user_id': 21292200, 'user_type': 'registered', 'profile_image': 'https://lh3.googleusercontent.com/a/AGNmyxYJFGGgxd_FssQfbIKg725z6oWtJDKafcmoQxKZ=k-s256', 'display_name': 'yfjuu 6', 'link': 'https://stackoverflow.com/users/21292200/yfjuu-6'}, 'is_answered': False, 'view_count': 6, 'answer_count': 0, 'score': 0, 'last_activity_date': 1704575155, 'creation_date': 1704575155, 'question_id': 77771021, 'content_license': 'CC BY-SA 4.0', 'link': 'https://stackoverflow.com/questions/77771021/how-to-disable-the-keyboard-shortcut-enter-when-reviewing', 'title': 'How to disable the keyboard shortcut &quot;Enter&quot; when reviewing?'}, {'tags': ['php', 'laravel'], 'owner': {'account_id': 6630228, 'reputation': 527, 'user_id': 5119153, 'user_type': 'registered', 'accept_rate': 25, 'profile_image': 'https://i.stack.imgur.com/mHt8G.png?s=256&g=1', 'display_name': 'HeartOfprogrammer', 'link': 'https://stackoverflow.com/users/5119153/heartofprogrammer'}, 'is_answered': True, 'view_count': 76382, 'answer_count': 14, 'score': 8, 'last_activity_date': 1704575149, 'creation_date': 1462653927, 'last_edit_date': 1462698148, 'question_id': 37093523, 'content_license': 'CC BY-SA 3.0', 'link': 'https://stackoverflow.com/questions/37093523/laravel-how-to-check-if-user-is-admin', 'title': 'Laravel: How to check if user is admin?'}, {'tags': ['python', 'selenium', 'selenium-webdriver'], 'owner': {'account_id': 314107, 'reputation': 9482, 'user_id': 629116, 'user_type': 'registered', 'accept_rate': 88, 'profile_image': 'https://www.gravatar.com/avatar/c95f3924fe76d31c79ec303dc18c9dc5?s=256&d=identicon&r=PG', 'display_name': 'Isaac', 'link': 'https://stackoverflow.com/users/629116/isaac'}, 'is_answered': True, 'view_count': 376970, 'accepted_answer_id': 7809907, 'answer_count': 18, 'score': 208, 'last_activity_date': 1704575146, 'creation_date': 1318365143, 'last_edit_date': 1438441700, 'question_id': 7732125, 'content_license': 'CC BY-SA 3.0', 'link': 'https://stackoverflow.com/questions/7732125/clear-text-from-textarea-with-selenium', 'title': 'Clear text from textarea with selenium'}, {'tags': ['coinbase-api'], 'owner': {'account_id': 30281189, 'reputation': 1, 'user_id': 23206340, 'user_type': 'registered', 'profile_image': 'https://lh3.googleusercontent.com/a/ACg8ocJ3idlkL0Pb_VSRqC6opDeD4AmVF_ijDow7_dqCjGsXFQ=k-s256', 'display_name': 'CryptoSenior', 'link': 'https://stackoverflow.com/users/23206340/cryptosenior'}, 'is_answered': False, 'view_count': 4, 'answer_count': 0, 'score': 0, 'last_activity_date': 1704575133, 'creation_date': 1704575133, 'question_id': 77771018, 'content_license': 'CC BY-SA 4.0', 'link': 'https://stackoverflow.com/questions/77771018/sent-cb-sol-to-sol-address-that-does-not-exist', 'title': 'Sent CB SOL to SOL address that does not exist'}, {'tags': ['python', 'dictionary'], 'owner': {'account_id': 30281301, 'reputation': 1, 'user_id': 23206423, 'user_type': 'registered', 'profile_image': 'https://lh3.googleusercontent.com/a/ACg8ocJbFsIm_RV5ZEUQDfiVU8JKQo9RMcCiw5RlpKnHkeBb=k-s256', 'display_name': 'Meneguim Lucas', 'link': 'https://stackoverflow.com/users/23206423/meneguim-lucas'}, 'is_answered': False, 'view_count': 12, 'answer_count': 0, 'score': 0, 'last_activity_date': 1704575133, 'creation_date': 1704575038, 'last_edit_date': 1704575133, 'question_id': 77771015, 'content_license': 'CC BY-SA 4.0', 'link': 'https://stackoverflow.com/questions/77771015/update-dictionary-only-when-new-entry-is-bigger-than-previous-one', 'title': 'Update dictionary only when new entry is bigger than previous one'}, {'tags': ['java', 'spring-boot', 'spring-data-jpa', 'spring-data'], 'owner': {'account_id': 12809345, 'reputation': 193, 'user_id': 9268070, 'user_type': 'registered', 'profile_image': 'https://www.gravatar.com/avatar/010f84df6b700ca6347925ba20da732b?s=256&d=identicon&r=PG&f=y&so-version=2', 'display_name': 'BMW83', 'link': 'https://stackoverflow.com/users/9268070/bmw83'}, 'is_answered': True, 'view_count': 967, 'accepted_answer_id': 73364112, 'answer_count': 3, 'score': 2, 'last_activity_date': 1704575127, 'creation_date': 1660242450, 'last_edit_date': 1704575127, 'question_id': 73325336, 'content_license': 'CC BY-SA 4.0', 'link': 'https://stackoverflow.com/questions/73325336/update-and-delete-entity-contains-another-entity-one-to-many-or-many-to-one-rela', 'title': 'Update and delete entity contains another entity one-to-many or many-to-one relationship Java'}, {'tags': ['android-jetpack-compose'], 'owner': {'account_id': 95617, 'reputation': 3590, 'user_id': 260298, 'user_type': 'registered', 'accept_rate': 63, 'profile_image': 'https://www.gravatar.com/avatar/bd5aa5d8ab7f94aa1282cfa696f33825?s=256&d=identicon&r=PG', 'display_name': 'prashant', 'link': 'https://stackoverflow.com/users/260298/prashant'}, 'is_answered': False, 'view_count': 9, 'answer_count': 1, 'score': 1, 'last_activity_date': 1704575096, 'creation_date': 1704461976, 'question_id': 77764967, 'content_license': 'CC BY-SA 4.0', 'link': 'https://stackoverflow.com/questions/77764967/how-to-find-current-snapped-item-in-lazy-column', 'title': 'How to find current snapped item in Lazy Column'}, {'tags': ['android', 'google-play', 'apk'], 'owner': {'account_id': 2246036, 'reputation': 9152, 'user_id': 1979347, 'user_type': 'registered', 'accept_rate': 87, 'profile_image': 'https://www.gravatar.com/avatar/4b842d236540c2d2d8d2134eb3dcfa71?s=256&d=identicon&r=PG', 'display_name': 'Rohan Kandwal', 'link': 'https://stackoverflow.com/users/1979347/rohan-kandwal'}, 'is_answered': True, 'view_count': 42565, 'accepted_answer_id': 42457538, 'answer_count': 23, 'score': 50, 'last_activity_date': 1704575066, 'creation_date': 1487828951, 'question_id': 42408046, 'content_license': 'CC BY-SA 3.0', 'link': 'https://stackoverflow.com/questions/42408046/google-play-fully-shadowed-apk', 'title': 'Google Play - Fully Shadowed apk'}, {'tags': ['flutter', 'json-serializable'], 'owner': {'account_id': 22665147, 'reputation': 81, 'user_id': 16837635, 'user_type': 'registered', 'profile_image': 'https://www.gravatar.com/avatar/4e2044fd3921432bd1973db00a679c8c?s=256&d=identicon&r=PG&f=y&so-version=2', 'display_name': 'ambstuc', 'link': 'https://stackoverflow.com/users/16837635/ambstuc'}, 'is_answered': True, 'view_count': 6670, 'answer_count': 3, 'score': 8, 'last_activity_date': 1704575061, 'creation_date': 1638974171, 'question_id': 70276766, 'content_license': 'CC BY-SA 4.0', 'link': 'https://stackoverflow.com/questions/70276766/flutter-json-serializable-what-if-key-can-have-different-names', 'title': 'Flutter json_serializable what if key can have different names'}, {'tags': ['bash', 'git', 'matlab', 'ansi-escape', 'xterm'], 'owner': {'account_id': 8477927, 'reputation': 47, 'user_id': 15854066, 'user_type': 'registered', 'profile_image': 'https://www.gravatar.com/avatar/803564a1f0530b24eafa8edeb28518c0?s=256&d=identicon&r=PG&f=y&so-version=2', 'display_name': 'LemongrabThree', 'link': 'https://stackoverflow.com/users/15854066/lemongrabthree'}, 'is_answered': False, 'view_count': 44, 'answer_count': 1, 'score': 0, 'last_activity_date': 1704575049, 'creation_date': 1704565002, 'question_id': 77770497, 'content_license': 'CC BY-SA 4.0', 'link': 'https://stackoverflow.com/questions/77770497/can-i-prevent-git-from-using-xterm-escape-sequences', 'title': 'Can I Prevent Git from Using XTerm Escape Sequences?'}, {'tags': ['documentation', 'endpoint', 'apple-maps'], 'owner': {'account_id': 6425655, 'reputation': 164, 'user_id': 4980908, 'user_type': 'registered', 'profile_image': 'https://lh3.googleusercontent.com/-d_QRBHvVqfE/AAAAAAAAAAI/AAAAAAAAAwU/lI9Scn0BDwU/photo.jpg?sz=256', 'display_name': 'Gregor', 'link': 'https://stackoverflow.com/users/4980908/gregor'}, 'is_answered': False, 'view_count': 13, 'answer_count': 0, 'score': 0, 'last_activity_date': 1704575039, 'creation_date': 1704473914, 'last_edit_date': 1704575039, 'question_id': 77766096, 'content_license': 'CC BY-SA 4.0', 'link': 'https://stackoverflow.com/questions/77766096/how-to-use-the-apple-business-connect-api', 'title': 'How to use the Apple Business Connect API?'}, {'tags': ['django', 'visual-studio-code', 'web-applications'], 'owner': {'account_id': 27139283, 'reputation': 23, 'user_id': 20680315, 'user_type': 'registered', 'profile_image': 'https://www.gravatar.com/avatar/f600431ea5dd1cd9fd051d1b6c1406dc?s=256&d=identicon&r=PG', 'display_name': 'Vedant Bisen', 'link': 'https://stackoverflow.com/users/20680315/vedant-bisen'}, 'is_answered': False, 'view_count': 126, 'answer_count': 1, 'score': 2, 'last_activity_date': 1704575027, 'creation_date': 1676305756, 'last_edit_date': 1676305830, 'question_id': 75438657, 'content_license': 'CC BY-SA 4.0', 'link': 'https://stackoverflow.com/questions/75438657/vs-code-browser-not-working-while-using-django', 'title': 'Vs Code browser not working while using Django'}, {'tags': ['excel', 'excel-formula', 'office365', 'excel-365'], 'owner': {'account_id': 17757308, 'reputation': 55, 'user_id': 12894102, 'user_type': 'registered', 'profile_image': 'https://lh3.googleusercontent.com/a-/AAuE7mDOoKrA8AvSDbyzbEgYxrs9ogixvLemsBtu-CaWyg=k-s256', 'display_name': 'statadvice', 'link': 'https://stackoverflow.com/users/12894102/statadvice'}, 'is_answered': False, 'view_count': 5, 'answer_count': 0, 'score': 0, 'last_activity_date': 1704575017, 'creation_date': 1704575017, 'question_id': 77771013, 'content_license': 'CC BY-SA 4.0', 'link': 'https://stackoverflow.com/questions/77771013/excel-issue-formulas-referencing-other-sheets-move-to-random-cells-upon-entry', 'title': 'Excel Issue: Formulas Referencing Other Sheets Move to Random Cells Upon Entry'}, {'tags': ['c#', 'visual-studio', 'unity-game-engine', 'editorconfig'], 'owner': {'account_id': 1125399, 'reputation': 121, 'user_id': 1112800, 'user_type': 'registered', 'accept_rate': 86, 'profile_image': 'https://www.gravatar.com/avatar/7f14152e960c8be879016074006ca7f4?s=256&d=identicon&r=PG', 'display_name': 'thakyZ', 'link': 'https://stackoverflow.com/users/1112800/thakyz'}, 'is_answered': False, 'view_count': 11, 'answer_count': 0, 'score': -1, 'last_activity_date': 1704575008, 'creation_date': 1704561789, 'last_edit_date': 1704575008, 'question_id': 77770332, 'content_license': 'CC BY-SA 4.0', 'link': 'https://stackoverflow.com/questions/77770332/disable-unity-netcode-generator-in-error-list-in-visual-studio', 'title': 'Disable Unity NetCode Generator in Error List in Visual Studio'}, {'tags': ['sql', 'sql-server', 'multiple-columns'], 'owner': {'account_id': 30281279, 'reputation': 1, 'user_id': 23206406, 'user_type': 'registered', 'profile_image': 'https://www.gravatar.com/avatar/b82f113f36cb7c611d67df17ef469637?s=256&d=identicon&r=PG&f=y&so-version=2', 'display_name': 'Akshata', 'link': 'https://stackoverflow.com/users/23206406/akshata'}, 'is_answered': False, 'view_count': 19, 'answer_count': 0, 'score': 0, 'last_activity_date': 1704574993, 'creation_date': 1704574697, 'last_edit_date': 1704574993, 'question_id': 77771001, 'content_license': 'CC BY-SA 4.0', 'link': 'https://stackoverflow.com/questions/77771001/sql-server-can-i-wrap-up-the-spentannually-for-every-customer-year-wise-withou', 'title': 'SQL Server : can I wrap up the SpentAnnually for every Customer Year-wise without having Redundant results for a year'}, {'tags': ['spring-boot', 'testing', 'wiremock', 'mockmvc'], 'owner': {'account_id': 22731899, 'reputation': 1, 'user_id': 16894669, 'user_type': 'registered', 'profile_image': 'https://www.gravatar.com/avatar/5b1759ad3c2d27001092de0707770b79?s=256&d=identicon&r=PG&f=y&so-version=2', 'display_name': 'FuuKowatty', 'link': 'https://stackoverflow.com/users/16894669/fuukowatty'}, 'is_answered': False, 'view_count': 30, 'answer_count': 1, 'score': 0, 'last_activity_date': 1704574970, 'creation_date': 1704497855, 'last_edit_date': 1704574970, 'question_id': 77767704, 'content_license': 'CC BY-SA 4.0', 'link': 'https://stackoverflow.com/questions/77767704/wiremock-invalid-response-3', 'title': '&quot;Wiremock invalid response: 3&quot;'}], 'has_more': True, 'quota_max': 300, 'quota_remaining': 293}\n"
     ]
    }
   ],
   "source": [
    "print(response.json())"
   ]
  },
  {
   "cell_type": "markdown",
   "id": "c5d1c435",
   "metadata": {},
   "source": [
    "We can explore items specifically "
   ]
  },
  {
   "cell_type": "code",
   "execution_count": 7,
   "id": "ebef32e7",
   "metadata": {},
   "outputs": [
    {
     "name": "stdout",
     "output_type": "stream",
     "text": [
      "[{'tags': ['sqlalchemy'], 'owner': {'account_id': 9000718, 'reputation': 677, 'user_id': 6709460, 'user_type': 'registered', 'accept_rate': 68, 'profile_image': 'https://www.gravatar.com/avatar/36b37e41d88fde8a2293b4557caba7f9?s=256&d=identicon&r=PG&f=y&so-version=2', 'display_name': 'Testing man', 'link': 'https://stackoverflow.com/users/6709460/testing-man'}, 'is_answered': False, 'view_count': 7, 'answer_count': 1, 'score': 0, 'last_activity_date': 1704575353, 'creation_date': 1704571183, 'question_id': 77770823, 'content_license': 'CC BY-SA 4.0', 'link': 'https://stackoverflow.com/questions/77770823/sqlalchemy-filter-values-based-on-not-null-value', 'title': 'SqlAlchemy .filter() values based on not Null value'}, {'tags': ['python', 'django-forms'], 'owner': {'account_id': 29728323, 'reputation': 1, 'user_id': 22783669, 'user_type': 'registered', 'profile_image': 'https://lh3.googleusercontent.com/a/ACg8ocI9Zf0E_ytl-5ZWBoFgq6_-d0aJtihGPEyCfww29LmY=k-s256', 'display_name': 'Urunar', 'link': 'https://stackoverflow.com/users/22783669/urunar'}, 'is_answered': False, 'view_count': 5, 'answer_count': 0, 'score': 0, 'last_activity_date': 1704575329, 'creation_date': 1704093574, 'last_edit_date': 1704575329, 'question_id': 77741219, 'content_license': 'CC BY-SA 4.0', 'link': 'https://stackoverflow.com/questions/77741219/django-forms-form-divides-fields-and-submit-button-in-separate-html-divs-how-t', 'title': 'django forms.Form divides fields and submit button in separate html div&#39;s. How to fix it?'}, {'tags': ['c++', 'c', 'sdl', 'game-development'], 'owner': {'account_id': 22131956, 'reputation': 1, 'user_id': 16383359, 'user_type': 'registered', 'profile_image': 'https://lh3.googleusercontent.com/a-/AOh14Gizt-nbXdlR-OezDs2564DfOInLBZBOBry0929tkQ=k-s256', 'display_name': 'LATIF ', 'link': 'https://stackoverflow.com/users/16383359/latif'}, 'is_answered': False, 'view_count': 2, 'answer_count': 0, 'score': 0, 'last_activity_date': 1704575288, 'creation_date': 1704575288, 'question_id': 77771028, 'content_license': 'CC BY-SA 4.0', 'link': 'https://stackoverflow.com/questions/77771028/sdl-sokoban-problem-when-the-player-pass-over-the-target-the-target-dissapea', 'title': 'SDL sokoban problem , when the player pass over the target , the target dissapear'}, {'tags': ['c#', 'c++', 'dll', 'cygwin', 'gnu'], 'owner': {'account_id': 7954826, 'reputation': 3, 'user_id': 6801979, 'user_type': 'registered', 'profile_image': 'https://i.stack.imgur.com/Oeuk3.png?s=256&g=1', 'display_name': 'nick.schachter', 'link': 'https://stackoverflow.com/users/6801979/nick-schachter'}, 'is_answered': False, 'view_count': 4, 'answer_count': 0, 'score': 0, 'last_activity_date': 1704575281, 'creation_date': 1704575281, 'question_id': 77771027, 'content_license': 'CC BY-SA 4.0', 'link': 'https://stackoverflow.com/questions/77771027/access-violation-when-calling-c-dll-from-c', 'title': 'Access Violation when calling C++ DLL from C#'}, {'tags': ['django', 'react-native', 'django-rest-framework', 'expo'], 'owner': {'account_id': 25327311, 'reputation': 9, 'user_id': 19147745, 'user_type': 'registered', 'profile_image': 'https://www.gravatar.com/avatar/6da9190b015a0b0292db513deee71b94?s=256&d=identicon&r=PG', 'display_name': 'Francisco Reinaudo', 'link': 'https://stackoverflow.com/users/19147745/francisco-reinaudo'}, 'is_answered': False, 'view_count': 12, 'answer_count': 1, 'score': 0, 'last_activity_date': 1704575272, 'creation_date': 1704568071, 'question_id': 77770671, 'content_license': 'CC BY-SA 4.0', 'link': 'https://stackoverflow.com/questions/77770671/expo-error-possible-undandled-promise-rejection', 'title': 'expo error &quot;possible undandled promise rejection&quot;'}, {'tags': ['macos', 'postgresql', 'homebrew'], 'owner': {'account_id': 373762, 'reputation': 3898, 'user_id': 723597, 'user_type': 'registered', 'accept_rate': 62, 'profile_image': 'https://www.gravatar.com/avatar/6583052605d97cd00338bb9c7d16846f?s=256&d=identicon&r=PG&f=y&so-version=2', 'display_name': 'LoveMeow', 'link': 'https://stackoverflow.com/users/723597/lovemeow'}, 'is_answered': True, 'view_count': 78418, 'accepted_answer_id': 33015649, 'answer_count': 8, 'score': 80, 'last_activity_date': 1704575271, 'creation_date': 1444306396, 'last_edit_date': 1492086165, 'question_id': 33015471, 'content_license': 'CC BY-SA 3.0', 'link': 'https://stackoverflow.com/questions/33015471/cannot-find-pg-hba-conf-and-postgreql-conf-file-on-os-x', 'title': 'Cannot find pg_hba.conf and postgreql.conf file on OS X?'}, {'tags': ['php', 'rounding'], 'owner': {'account_id': 12377885, 'reputation': 27, 'user_id': 9024852, 'user_type': 'registered', 'profile_image': 'https://graph.facebook.com/1719743458036488/picture?type=large', 'display_name': 'Igor Tarasov', 'link': 'https://stackoverflow.com/users/9024852/igor-tarasov'}, 'is_answered': False, 'view_count': 3, 'answer_count': 0, 'score': 0, 'last_activity_date': 1704575224, 'creation_date': 1704575224, 'question_id': 77771025, 'content_license': 'CC BY-SA 4.0', 'link': 'https://stackoverflow.com/questions/77771025/how-to-fix-php-round', 'title': 'How to fix php round?'}, {'tags': ['sql', 'mysql', 'sql-server', 'postgresql', 'oracle'], 'owner': {'account_id': 28816085, 'reputation': 1, 'user_id': 22069674, 'user_type': 'registered', 'profile_image': 'https://www.gravatar.com/avatar/1d91a4a255fc4b5e22da33d02cfbba64?s=256&d=identicon&r=PG&f=y&so-version=2', 'display_name': 'Itachi_16', 'link': 'https://stackoverflow.com/users/22069674/itachi-16'}, 'is_answered': False, 'view_count': 6, 'answer_count': 0, 'score': -1, 'last_activity_date': 1704575212, 'creation_date': 1704575212, 'question_id': 77771024, 'content_license': 'CC BY-SA 4.0', 'link': 'https://stackoverflow.com/questions/77771024/sql-how-to-return-the-rows-that-has-only-one-max-date-for-duplicate-row-num', 'title': 'sql how to return the rows that has only one max date for duplicate row_num'}, {'tags': ['flutter', 'flutter-dependencies', 'android-mediaplayer'], 'owner': {'account_id': 12382307, 'reputation': 1, 'user_id': 14508268, 'user_type': 'registered', 'profile_image': 'https://www.gravatar.com/avatar/63ffe5815c9106df9b5c86cca10cfb37?s=256&d=identicon&r=PG&f=y&so-version=2', 'display_name': 'David jorge', 'link': 'https://stackoverflow.com/users/14508268/david-jorge'}, 'is_answered': False, 'view_count': 5, 'answer_count': 0, 'score': 0, 'last_activity_date': 1704575206, 'creation_date': 1704574955, 'last_edit_date': 1704575206, 'question_id': 77771012, 'content_license': 'CC BY-SA 4.0', 'link': 'https://stackoverflow.com/questions/77771012/error-in-fluttersoundplayer-the-getter-onplayerstatechange-isnt-defined', 'title': 'Error in FlutterSoundPlayer: The getter &#39;onPlayerStateChange&#39; isn&#39;t defined'}, {'tags': ['android', 'json', 'gson'], 'owner': {'account_id': 14037282, 'reputation': 11, 'user_id': 11686832, 'user_type': 'registered', 'profile_image': 'https://lh4.googleusercontent.com/-Mnn0FR6wOy4/AAAAAAAAAAI/AAAAAAAAAgM/UlxlkhwWxu8/photo.jpg?sz=256', 'display_name': 'Yus', 'link': 'https://stackoverflow.com/users/11686832/yus'}, 'is_answered': False, 'view_count': 12031, 'answer_count': 3, 'score': 0, 'last_activity_date': 1704575205, 'creation_date': 1561258142, 'last_edit_date': 1561259304, 'question_id': 56720645, 'content_license': 'CC BY-SA 4.0', 'link': 'https://stackoverflow.com/questions/56720645/how-to-unrealize-a-json-using-gson-get-an-error', 'title': 'How to unrealize a json using GSON? Get an error'}, {'tags': ['c', 'node.js'], 'owner': {'account_id': 11047400, 'reputation': 241, 'user_id': 8112967, 'user_type': 'registered', 'accept_rate': 57, 'profile_image': 'https://www.gravatar.com/avatar/47336ef221bebcf64b60a045aff702b0?s=256&d=identicon&r=PG&f=y&so-version=2', 'display_name': 'ccying', 'link': 'https://stackoverflow.com/users/8112967/ccying'}, 'is_answered': False, 'view_count': 10081, 'answer_count': 3, 'score': 10, 'last_activity_date': 1704575205, 'creation_date': 1500819977, 'last_edit_date': 1500820121, 'question_id': 45266160, 'content_license': 'CC BY-SA 3.0', 'link': 'https://stackoverflow.com/questions/45266160/how-to-call-c-function-from-nodejs', 'title': 'How to call C function from nodeJS'}, {'tags': ['android', 'adb'], 'owner': {'user_type': 'does_not_exist', 'display_name': 'user7154703'}, 'is_answered': False, 'view_count': 8895, 'answer_count': 1, 'score': 1, 'last_activity_date': 1704575205, 'creation_date': 1481336719, 'last_edit_date': 1481337916, 'question_id': 41071542, 'content_license': 'CC BY-SA 3.0', 'link': 'https://stackoverflow.com/questions/41071542/android-adb-how-to-start-server-port-5555-without-connecting-device-throug', 'title': 'Android ADB : How to start server ( port 5555 ) without connecting device through USB'}, {'tags': ['php', 'mysql', 'odbc'], 'owner': {'account_id': 1262295, 'reputation': 897, 'user_id': 1220297, 'user_type': 'registered', 'accept_rate': 70, 'profile_image': 'https://www.gravatar.com/avatar/594a1db67bd78a4efa7f00edb3990bf1?s=256&d=identicon&r=PG', 'display_name': 'kimbebot', 'link': 'https://stackoverflow.com/users/1220297/kimbebot'}, 'is_answered': False, 'view_count': 11552, 'answer_count': 2, 'score': 2, 'last_activity_date': 1704575205, 'creation_date': 1330476886, 'question_id': 9492137, 'content_license': 'CC BY-SA 3.0', 'link': 'https://stackoverflow.com/questions/9492137/how-to-check-if-my-odbc-data-source-exist-in-php', 'title': 'How to check if my ODBC Data Source exist in PHP?'}, {'tags': ['bash', 'rsync'], 'owner': {'account_id': 30208216, 'reputation': 1, 'user_id': 23150782, 'user_type': 'registered', 'profile_image': 'https://www.gravatar.com/avatar/37cc01f58b670cfb3286c7da00474e82?s=256&d=identicon&r=PG&f=y&so-version=2', 'display_name': 'asdaiui', 'link': 'https://stackoverflow.com/users/23150782/asdaiui'}, 'is_answered': False, 'view_count': 16, 'answer_count': 1, 'score': 0, 'last_activity_date': 1704575162, 'creation_date': 1704574472, 'last_edit_date': 1704574648, 'question_id': 77770996, 'content_license': 'CC BY-SA 4.0', 'link': 'https://stackoverflow.com/questions/77770996/running-rsync-as-root-from-bash-script', 'title': 'Running rsync as root from bash script'}, {'tags': ['anki'], 'owner': {'account_id': 27884397, 'reputation': 25, 'user_id': 21292200, 'user_type': 'registered', 'profile_image': 'https://lh3.googleusercontent.com/a/AGNmyxYJFGGgxd_FssQfbIKg725z6oWtJDKafcmoQxKZ=k-s256', 'display_name': 'yfjuu 6', 'link': 'https://stackoverflow.com/users/21292200/yfjuu-6'}, 'is_answered': False, 'view_count': 6, 'answer_count': 0, 'score': 0, 'last_activity_date': 1704575155, 'creation_date': 1704575155, 'question_id': 77771021, 'content_license': 'CC BY-SA 4.0', 'link': 'https://stackoverflow.com/questions/77771021/how-to-disable-the-keyboard-shortcut-enter-when-reviewing', 'title': 'How to disable the keyboard shortcut &quot;Enter&quot; when reviewing?'}, {'tags': ['php', 'laravel'], 'owner': {'account_id': 6630228, 'reputation': 527, 'user_id': 5119153, 'user_type': 'registered', 'accept_rate': 25, 'profile_image': 'https://i.stack.imgur.com/mHt8G.png?s=256&g=1', 'display_name': 'HeartOfprogrammer', 'link': 'https://stackoverflow.com/users/5119153/heartofprogrammer'}, 'is_answered': True, 'view_count': 76382, 'answer_count': 14, 'score': 8, 'last_activity_date': 1704575149, 'creation_date': 1462653927, 'last_edit_date': 1462698148, 'question_id': 37093523, 'content_license': 'CC BY-SA 3.0', 'link': 'https://stackoverflow.com/questions/37093523/laravel-how-to-check-if-user-is-admin', 'title': 'Laravel: How to check if user is admin?'}, {'tags': ['python', 'selenium', 'selenium-webdriver'], 'owner': {'account_id': 314107, 'reputation': 9482, 'user_id': 629116, 'user_type': 'registered', 'accept_rate': 88, 'profile_image': 'https://www.gravatar.com/avatar/c95f3924fe76d31c79ec303dc18c9dc5?s=256&d=identicon&r=PG', 'display_name': 'Isaac', 'link': 'https://stackoverflow.com/users/629116/isaac'}, 'is_answered': True, 'view_count': 376970, 'accepted_answer_id': 7809907, 'answer_count': 18, 'score': 208, 'last_activity_date': 1704575146, 'creation_date': 1318365143, 'last_edit_date': 1438441700, 'question_id': 7732125, 'content_license': 'CC BY-SA 3.0', 'link': 'https://stackoverflow.com/questions/7732125/clear-text-from-textarea-with-selenium', 'title': 'Clear text from textarea with selenium'}, {'tags': ['coinbase-api'], 'owner': {'account_id': 30281189, 'reputation': 1, 'user_id': 23206340, 'user_type': 'registered', 'profile_image': 'https://lh3.googleusercontent.com/a/ACg8ocJ3idlkL0Pb_VSRqC6opDeD4AmVF_ijDow7_dqCjGsXFQ=k-s256', 'display_name': 'CryptoSenior', 'link': 'https://stackoverflow.com/users/23206340/cryptosenior'}, 'is_answered': False, 'view_count': 4, 'answer_count': 0, 'score': 0, 'last_activity_date': 1704575133, 'creation_date': 1704575133, 'question_id': 77771018, 'content_license': 'CC BY-SA 4.0', 'link': 'https://stackoverflow.com/questions/77771018/sent-cb-sol-to-sol-address-that-does-not-exist', 'title': 'Sent CB SOL to SOL address that does not exist'}, {'tags': ['python', 'dictionary'], 'owner': {'account_id': 30281301, 'reputation': 1, 'user_id': 23206423, 'user_type': 'registered', 'profile_image': 'https://lh3.googleusercontent.com/a/ACg8ocJbFsIm_RV5ZEUQDfiVU8JKQo9RMcCiw5RlpKnHkeBb=k-s256', 'display_name': 'Meneguim Lucas', 'link': 'https://stackoverflow.com/users/23206423/meneguim-lucas'}, 'is_answered': False, 'view_count': 12, 'answer_count': 0, 'score': 0, 'last_activity_date': 1704575133, 'creation_date': 1704575038, 'last_edit_date': 1704575133, 'question_id': 77771015, 'content_license': 'CC BY-SA 4.0', 'link': 'https://stackoverflow.com/questions/77771015/update-dictionary-only-when-new-entry-is-bigger-than-previous-one', 'title': 'Update dictionary only when new entry is bigger than previous one'}, {'tags': ['java', 'spring-boot', 'spring-data-jpa', 'spring-data'], 'owner': {'account_id': 12809345, 'reputation': 193, 'user_id': 9268070, 'user_type': 'registered', 'profile_image': 'https://www.gravatar.com/avatar/010f84df6b700ca6347925ba20da732b?s=256&d=identicon&r=PG&f=y&so-version=2', 'display_name': 'BMW83', 'link': 'https://stackoverflow.com/users/9268070/bmw83'}, 'is_answered': True, 'view_count': 967, 'accepted_answer_id': 73364112, 'answer_count': 3, 'score': 2, 'last_activity_date': 1704575127, 'creation_date': 1660242450, 'last_edit_date': 1704575127, 'question_id': 73325336, 'content_license': 'CC BY-SA 4.0', 'link': 'https://stackoverflow.com/questions/73325336/update-and-delete-entity-contains-another-entity-one-to-many-or-many-to-one-rela', 'title': 'Update and delete entity contains another entity one-to-many or many-to-one relationship Java'}, {'tags': ['android-jetpack-compose'], 'owner': {'account_id': 95617, 'reputation': 3590, 'user_id': 260298, 'user_type': 'registered', 'accept_rate': 63, 'profile_image': 'https://www.gravatar.com/avatar/bd5aa5d8ab7f94aa1282cfa696f33825?s=256&d=identicon&r=PG', 'display_name': 'prashant', 'link': 'https://stackoverflow.com/users/260298/prashant'}, 'is_answered': False, 'view_count': 9, 'answer_count': 1, 'score': 1, 'last_activity_date': 1704575096, 'creation_date': 1704461976, 'question_id': 77764967, 'content_license': 'CC BY-SA 4.0', 'link': 'https://stackoverflow.com/questions/77764967/how-to-find-current-snapped-item-in-lazy-column', 'title': 'How to find current snapped item in Lazy Column'}, {'tags': ['android', 'google-play', 'apk'], 'owner': {'account_id': 2246036, 'reputation': 9152, 'user_id': 1979347, 'user_type': 'registered', 'accept_rate': 87, 'profile_image': 'https://www.gravatar.com/avatar/4b842d236540c2d2d8d2134eb3dcfa71?s=256&d=identicon&r=PG', 'display_name': 'Rohan Kandwal', 'link': 'https://stackoverflow.com/users/1979347/rohan-kandwal'}, 'is_answered': True, 'view_count': 42565, 'accepted_answer_id': 42457538, 'answer_count': 23, 'score': 50, 'last_activity_date': 1704575066, 'creation_date': 1487828951, 'question_id': 42408046, 'content_license': 'CC BY-SA 3.0', 'link': 'https://stackoverflow.com/questions/42408046/google-play-fully-shadowed-apk', 'title': 'Google Play - Fully Shadowed apk'}, {'tags': ['flutter', 'json-serializable'], 'owner': {'account_id': 22665147, 'reputation': 81, 'user_id': 16837635, 'user_type': 'registered', 'profile_image': 'https://www.gravatar.com/avatar/4e2044fd3921432bd1973db00a679c8c?s=256&d=identicon&r=PG&f=y&so-version=2', 'display_name': 'ambstuc', 'link': 'https://stackoverflow.com/users/16837635/ambstuc'}, 'is_answered': True, 'view_count': 6670, 'answer_count': 3, 'score': 8, 'last_activity_date': 1704575061, 'creation_date': 1638974171, 'question_id': 70276766, 'content_license': 'CC BY-SA 4.0', 'link': 'https://stackoverflow.com/questions/70276766/flutter-json-serializable-what-if-key-can-have-different-names', 'title': 'Flutter json_serializable what if key can have different names'}, {'tags': ['bash', 'git', 'matlab', 'ansi-escape', 'xterm'], 'owner': {'account_id': 8477927, 'reputation': 47, 'user_id': 15854066, 'user_type': 'registered', 'profile_image': 'https://www.gravatar.com/avatar/803564a1f0530b24eafa8edeb28518c0?s=256&d=identicon&r=PG&f=y&so-version=2', 'display_name': 'LemongrabThree', 'link': 'https://stackoverflow.com/users/15854066/lemongrabthree'}, 'is_answered': False, 'view_count': 44, 'answer_count': 1, 'score': 0, 'last_activity_date': 1704575049, 'creation_date': 1704565002, 'question_id': 77770497, 'content_license': 'CC BY-SA 4.0', 'link': 'https://stackoverflow.com/questions/77770497/can-i-prevent-git-from-using-xterm-escape-sequences', 'title': 'Can I Prevent Git from Using XTerm Escape Sequences?'}, {'tags': ['documentation', 'endpoint', 'apple-maps'], 'owner': {'account_id': 6425655, 'reputation': 164, 'user_id': 4980908, 'user_type': 'registered', 'profile_image': 'https://lh3.googleusercontent.com/-d_QRBHvVqfE/AAAAAAAAAAI/AAAAAAAAAwU/lI9Scn0BDwU/photo.jpg?sz=256', 'display_name': 'Gregor', 'link': 'https://stackoverflow.com/users/4980908/gregor'}, 'is_answered': False, 'view_count': 13, 'answer_count': 0, 'score': 0, 'last_activity_date': 1704575039, 'creation_date': 1704473914, 'last_edit_date': 1704575039, 'question_id': 77766096, 'content_license': 'CC BY-SA 4.0', 'link': 'https://stackoverflow.com/questions/77766096/how-to-use-the-apple-business-connect-api', 'title': 'How to use the Apple Business Connect API?'}, {'tags': ['django', 'visual-studio-code', 'web-applications'], 'owner': {'account_id': 27139283, 'reputation': 23, 'user_id': 20680315, 'user_type': 'registered', 'profile_image': 'https://www.gravatar.com/avatar/f600431ea5dd1cd9fd051d1b6c1406dc?s=256&d=identicon&r=PG', 'display_name': 'Vedant Bisen', 'link': 'https://stackoverflow.com/users/20680315/vedant-bisen'}, 'is_answered': False, 'view_count': 126, 'answer_count': 1, 'score': 2, 'last_activity_date': 1704575027, 'creation_date': 1676305756, 'last_edit_date': 1676305830, 'question_id': 75438657, 'content_license': 'CC BY-SA 4.0', 'link': 'https://stackoverflow.com/questions/75438657/vs-code-browser-not-working-while-using-django', 'title': 'Vs Code browser not working while using Django'}, {'tags': ['excel', 'excel-formula', 'office365', 'excel-365'], 'owner': {'account_id': 17757308, 'reputation': 55, 'user_id': 12894102, 'user_type': 'registered', 'profile_image': 'https://lh3.googleusercontent.com/a-/AAuE7mDOoKrA8AvSDbyzbEgYxrs9ogixvLemsBtu-CaWyg=k-s256', 'display_name': 'statadvice', 'link': 'https://stackoverflow.com/users/12894102/statadvice'}, 'is_answered': False, 'view_count': 5, 'answer_count': 0, 'score': 0, 'last_activity_date': 1704575017, 'creation_date': 1704575017, 'question_id': 77771013, 'content_license': 'CC BY-SA 4.0', 'link': 'https://stackoverflow.com/questions/77771013/excel-issue-formulas-referencing-other-sheets-move-to-random-cells-upon-entry', 'title': 'Excel Issue: Formulas Referencing Other Sheets Move to Random Cells Upon Entry'}, {'tags': ['c#', 'visual-studio', 'unity-game-engine', 'editorconfig'], 'owner': {'account_id': 1125399, 'reputation': 121, 'user_id': 1112800, 'user_type': 'registered', 'accept_rate': 86, 'profile_image': 'https://www.gravatar.com/avatar/7f14152e960c8be879016074006ca7f4?s=256&d=identicon&r=PG', 'display_name': 'thakyZ', 'link': 'https://stackoverflow.com/users/1112800/thakyz'}, 'is_answered': False, 'view_count': 11, 'answer_count': 0, 'score': -1, 'last_activity_date': 1704575008, 'creation_date': 1704561789, 'last_edit_date': 1704575008, 'question_id': 77770332, 'content_license': 'CC BY-SA 4.0', 'link': 'https://stackoverflow.com/questions/77770332/disable-unity-netcode-generator-in-error-list-in-visual-studio', 'title': 'Disable Unity NetCode Generator in Error List in Visual Studio'}, {'tags': ['sql', 'sql-server', 'multiple-columns'], 'owner': {'account_id': 30281279, 'reputation': 1, 'user_id': 23206406, 'user_type': 'registered', 'profile_image': 'https://www.gravatar.com/avatar/b82f113f36cb7c611d67df17ef469637?s=256&d=identicon&r=PG&f=y&so-version=2', 'display_name': 'Akshata', 'link': 'https://stackoverflow.com/users/23206406/akshata'}, 'is_answered': False, 'view_count': 19, 'answer_count': 0, 'score': 0, 'last_activity_date': 1704574993, 'creation_date': 1704574697, 'last_edit_date': 1704574993, 'question_id': 77771001, 'content_license': 'CC BY-SA 4.0', 'link': 'https://stackoverflow.com/questions/77771001/sql-server-can-i-wrap-up-the-spentannually-for-every-customer-year-wise-withou', 'title': 'SQL Server : can I wrap up the SpentAnnually for every Customer Year-wise without having Redundant results for a year'}, {'tags': ['spring-boot', 'testing', 'wiremock', 'mockmvc'], 'owner': {'account_id': 22731899, 'reputation': 1, 'user_id': 16894669, 'user_type': 'registered', 'profile_image': 'https://www.gravatar.com/avatar/5b1759ad3c2d27001092de0707770b79?s=256&d=identicon&r=PG&f=y&so-version=2', 'display_name': 'FuuKowatty', 'link': 'https://stackoverflow.com/users/16894669/fuukowatty'}, 'is_answered': False, 'view_count': 30, 'answer_count': 1, 'score': 0, 'last_activity_date': 1704574970, 'creation_date': 1704497855, 'last_edit_date': 1704574970, 'question_id': 77767704, 'content_license': 'CC BY-SA 4.0', 'link': 'https://stackoverflow.com/questions/77767704/wiremock-invalid-response-3', 'title': '&quot;Wiremock invalid response: 3&quot;'}]\n"
     ]
    }
   ],
   "source": [
    "print(response.json()['items'])"
   ]
  },
  {
   "cell_type": "markdown",
   "id": "01a2123c",
   "metadata": {},
   "source": [
    "Now if we want to see all the titles of the items then"
   ]
  },
  {
   "cell_type": "code",
   "execution_count": 9,
   "id": "e9198c4c",
   "metadata": {},
   "outputs": [
    {
     "name": "stdout",
     "output_type": "stream",
     "text": [
      "# SqlAlchemy .filter() values based on not Null value\n",
      "# django forms.Form divides fields and submit button in separate html div&#39;s. How to fix it?\n",
      "# SDL sokoban problem , when the player pass over the target , the target dissapear\n",
      "# Access Violation when calling C++ DLL from C#\n",
      "# expo error &quot;possible undandled promise rejection&quot;\n",
      "# Cannot find pg_hba.conf and postgreql.conf file on OS X?\n",
      "# How to fix php round?\n",
      "# sql how to return the rows that has only one max date for duplicate row_num\n",
      "# Error in FlutterSoundPlayer: The getter &#39;onPlayerStateChange&#39; isn&#39;t defined\n",
      "# How to unrealize a json using GSON? Get an error\n",
      "# How to call C function from nodeJS\n",
      "# Android ADB : How to start server ( port 5555 ) without connecting device through USB\n",
      "# How to check if my ODBC Data Source exist in PHP?\n",
      "# Running rsync as root from bash script\n",
      "# How to disable the keyboard shortcut &quot;Enter&quot; when reviewing?\n",
      "# Laravel: How to check if user is admin?\n",
      "# Clear text from textarea with selenium\n",
      "# Sent CB SOL to SOL address that does not exist\n",
      "# Update dictionary only when new entry is bigger than previous one\n",
      "# Update and delete entity contains another entity one-to-many or many-to-one relationship Java\n",
      "# How to find current snapped item in Lazy Column\n",
      "# Google Play - Fully Shadowed apk\n",
      "# Flutter json_serializable what if key can have different names\n",
      "# Can I Prevent Git from Using XTerm Escape Sequences?\n",
      "# How to use the Apple Business Connect API?\n",
      "# Vs Code browser not working while using Django\n",
      "# Excel Issue: Formulas Referencing Other Sheets Move to Random Cells Upon Entry\n",
      "# Disable Unity NetCode Generator in Error List in Visual Studio\n",
      "# SQL Server : can I wrap up the SpentAnnually for every Customer Year-wise without having Redundant results for a year\n",
      "# &quot;Wiremock invalid response: 3&quot;\n"
     ]
    }
   ],
   "source": [
    "for data in response.json()['items']:\n",
    "    print('#',data['title'])"
   ]
  },
  {
   "cell_type": "markdown",
   "id": "80534836",
   "metadata": {},
   "source": [
    "If we also want to the question and it's link then "
   ]
  },
  {
   "cell_type": "code",
   "execution_count": 11,
   "id": "2d3c8955",
   "metadata": {},
   "outputs": [
    {
     "name": "stdout",
     "output_type": "stream",
     "text": [
      "Q: SqlAlchemy .filter() values based on not Null value\n",
      "link: https://stackoverflow.com/questions/77770823/sqlalchemy-filter-values-based-on-not-null-value\n",
      "Q: django forms.Form divides fields and submit button in separate html div&#39;s. How to fix it?\n",
      "link: https://stackoverflow.com/questions/77741219/django-forms-form-divides-fields-and-submit-button-in-separate-html-divs-how-t\n",
      "Q: SDL sokoban problem , when the player pass over the target , the target dissapear\n",
      "link: https://stackoverflow.com/questions/77771028/sdl-sokoban-problem-when-the-player-pass-over-the-target-the-target-dissapea\n",
      "Q: Access Violation when calling C++ DLL from C#\n",
      "link: https://stackoverflow.com/questions/77771027/access-violation-when-calling-c-dll-from-c\n",
      "Q: expo error &quot;possible undandled promise rejection&quot;\n",
      "link: https://stackoverflow.com/questions/77770671/expo-error-possible-undandled-promise-rejection\n",
      "Q: Cannot find pg_hba.conf and postgreql.conf file on OS X?\n",
      "link: https://stackoverflow.com/questions/33015471/cannot-find-pg-hba-conf-and-postgreql-conf-file-on-os-x\n",
      "Q: How to fix php round?\n",
      "link: https://stackoverflow.com/questions/77771025/how-to-fix-php-round\n",
      "Q: sql how to return the rows that has only one max date for duplicate row_num\n",
      "link: https://stackoverflow.com/questions/77771024/sql-how-to-return-the-rows-that-has-only-one-max-date-for-duplicate-row-num\n",
      "Q: Error in FlutterSoundPlayer: The getter &#39;onPlayerStateChange&#39; isn&#39;t defined\n",
      "link: https://stackoverflow.com/questions/77771012/error-in-fluttersoundplayer-the-getter-onplayerstatechange-isnt-defined\n",
      "Q: How to unrealize a json using GSON? Get an error\n",
      "link: https://stackoverflow.com/questions/56720645/how-to-unrealize-a-json-using-gson-get-an-error\n",
      "Q: How to call C function from nodeJS\n",
      "link: https://stackoverflow.com/questions/45266160/how-to-call-c-function-from-nodejs\n",
      "Q: Android ADB : How to start server ( port 5555 ) without connecting device through USB\n",
      "link: https://stackoverflow.com/questions/41071542/android-adb-how-to-start-server-port-5555-without-connecting-device-throug\n",
      "Q: How to check if my ODBC Data Source exist in PHP?\n",
      "link: https://stackoverflow.com/questions/9492137/how-to-check-if-my-odbc-data-source-exist-in-php\n",
      "Q: Running rsync as root from bash script\n",
      "link: https://stackoverflow.com/questions/77770996/running-rsync-as-root-from-bash-script\n",
      "Q: How to disable the keyboard shortcut &quot;Enter&quot; when reviewing?\n",
      "link: https://stackoverflow.com/questions/77771021/how-to-disable-the-keyboard-shortcut-enter-when-reviewing\n",
      "Q: Laravel: How to check if user is admin?\n",
      "link: https://stackoverflow.com/questions/37093523/laravel-how-to-check-if-user-is-admin\n",
      "Q: Clear text from textarea with selenium\n",
      "link: https://stackoverflow.com/questions/7732125/clear-text-from-textarea-with-selenium\n",
      "Q: Sent CB SOL to SOL address that does not exist\n",
      "link: https://stackoverflow.com/questions/77771018/sent-cb-sol-to-sol-address-that-does-not-exist\n",
      "Q: Update dictionary only when new entry is bigger than previous one\n",
      "link: https://stackoverflow.com/questions/77771015/update-dictionary-only-when-new-entry-is-bigger-than-previous-one\n",
      "Q: Update and delete entity contains another entity one-to-many or many-to-one relationship Java\n",
      "link: https://stackoverflow.com/questions/73325336/update-and-delete-entity-contains-another-entity-one-to-many-or-many-to-one-rela\n",
      "Q: How to find current snapped item in Lazy Column\n",
      "link: https://stackoverflow.com/questions/77764967/how-to-find-current-snapped-item-in-lazy-column\n",
      "Q: Google Play - Fully Shadowed apk\n",
      "link: https://stackoverflow.com/questions/42408046/google-play-fully-shadowed-apk\n",
      "Q: Flutter json_serializable what if key can have different names\n",
      "link: https://stackoverflow.com/questions/70276766/flutter-json-serializable-what-if-key-can-have-different-names\n",
      "Q: Can I Prevent Git from Using XTerm Escape Sequences?\n",
      "link: https://stackoverflow.com/questions/77770497/can-i-prevent-git-from-using-xterm-escape-sequences\n",
      "Q: How to use the Apple Business Connect API?\n",
      "link: https://stackoverflow.com/questions/77766096/how-to-use-the-apple-business-connect-api\n",
      "Q: Vs Code browser not working while using Django\n",
      "link: https://stackoverflow.com/questions/75438657/vs-code-browser-not-working-while-using-django\n",
      "Q: Excel Issue: Formulas Referencing Other Sheets Move to Random Cells Upon Entry\n",
      "link: https://stackoverflow.com/questions/77771013/excel-issue-formulas-referencing-other-sheets-move-to-random-cells-upon-entry\n",
      "Q: Disable Unity NetCode Generator in Error List in Visual Studio\n",
      "link: https://stackoverflow.com/questions/77770332/disable-unity-netcode-generator-in-error-list-in-visual-studio\n",
      "Q: SQL Server : can I wrap up the SpentAnnually for every Customer Year-wise without having Redundant results for a year\n",
      "link: https://stackoverflow.com/questions/77771001/sql-server-can-i-wrap-up-the-spentannually-for-every-customer-year-wise-withou\n",
      "Q: &quot;Wiremock invalid response: 3&quot;\n",
      "link: https://stackoverflow.com/questions/77767704/wiremock-invalid-response-3\n"
     ]
    }
   ],
   "source": [
    "for data in response.json()['items']:\n",
    "    print('Q:', data['title'])\n",
    "    print('link:',data['link'], end=\"\\n\")"
   ]
  },
  {
   "cell_type": "markdown",
   "id": "97836078",
   "metadata": {},
   "source": [
    "If we want to see questions which doesn't have any answer or valid answer then"
   ]
  },
  {
   "cell_type": "code",
   "execution_count": 12,
   "id": "0e6bbcd6",
   "metadata": {},
   "outputs": [
    {
     "name": "stdout",
     "output_type": "stream",
     "text": [
      "skipped\n",
      "\n",
      "Q: django forms.Form divides fields and submit button in separate html div&#39;s. How to fix it?\n",
      "link: https://stackoverflow.com/questions/77741219/django-forms-form-divides-fields-and-submit-button-in-separate-html-divs-how-t\n",
      "\n",
      "Q: SDL sokoban problem , when the player pass over the target , the target dissapear\n",
      "link: https://stackoverflow.com/questions/77771028/sdl-sokoban-problem-when-the-player-pass-over-the-target-the-target-dissapea\n",
      "\n",
      "Q: Access Violation when calling C++ DLL from C#\n",
      "link: https://stackoverflow.com/questions/77771027/access-violation-when-calling-c-dll-from-c\n",
      "\n",
      "skipped\n",
      "\n",
      "skipped\n",
      "\n",
      "Q: How to fix php round?\n",
      "link: https://stackoverflow.com/questions/77771025/how-to-fix-php-round\n",
      "\n",
      "Q: sql how to return the rows that has only one max date for duplicate row_num\n",
      "link: https://stackoverflow.com/questions/77771024/sql-how-to-return-the-rows-that-has-only-one-max-date-for-duplicate-row-num\n",
      "\n",
      "Q: Error in FlutterSoundPlayer: The getter &#39;onPlayerStateChange&#39; isn&#39;t defined\n",
      "link: https://stackoverflow.com/questions/77771012/error-in-fluttersoundplayer-the-getter-onplayerstatechange-isnt-defined\n",
      "\n",
      "skipped\n",
      "\n",
      "skipped\n",
      "\n",
      "skipped\n",
      "\n",
      "skipped\n",
      "\n",
      "skipped\n",
      "\n",
      "Q: How to disable the keyboard shortcut &quot;Enter&quot; when reviewing?\n",
      "link: https://stackoverflow.com/questions/77771021/how-to-disable-the-keyboard-shortcut-enter-when-reviewing\n",
      "\n",
      "skipped\n",
      "\n",
      "skipped\n",
      "\n",
      "Q: Sent CB SOL to SOL address that does not exist\n",
      "link: https://stackoverflow.com/questions/77771018/sent-cb-sol-to-sol-address-that-does-not-exist\n",
      "\n",
      "Q: Update dictionary only when new entry is bigger than previous one\n",
      "link: https://stackoverflow.com/questions/77771015/update-dictionary-only-when-new-entry-is-bigger-than-previous-one\n",
      "\n",
      "skipped\n",
      "\n",
      "skipped\n",
      "\n",
      "skipped\n",
      "\n",
      "skipped\n",
      "\n",
      "skipped\n",
      "\n",
      "Q: How to use the Apple Business Connect API?\n",
      "link: https://stackoverflow.com/questions/77766096/how-to-use-the-apple-business-connect-api\n",
      "\n",
      "skipped\n",
      "\n",
      "Q: Excel Issue: Formulas Referencing Other Sheets Move to Random Cells Upon Entry\n",
      "link: https://stackoverflow.com/questions/77771013/excel-issue-formulas-referencing-other-sheets-move-to-random-cells-upon-entry\n",
      "\n",
      "Q: Disable Unity NetCode Generator in Error List in Visual Studio\n",
      "link: https://stackoverflow.com/questions/77770332/disable-unity-netcode-generator-in-error-list-in-visual-studio\n",
      "\n",
      "Q: SQL Server : can I wrap up the SpentAnnually for every Customer Year-wise without having Redundant results for a year\n",
      "link: https://stackoverflow.com/questions/77771001/sql-server-can-i-wrap-up-the-spentannually-for-every-customer-year-wise-withou\n",
      "\n",
      "skipped\n",
      "\n"
     ]
    }
   ],
   "source": [
    "for data in response.json()['items']:\n",
    "    if data['answer_count'] == 0:\n",
    "        print('Q:', data['title'])\n",
    "        print('link:',data['link'])\n",
    "    else:\n",
    "        print('skipped')\n",
    "    print()"
   ]
  },
  {
   "cell_type": "markdown",
   "id": "de6c0603",
   "metadata": {},
   "source": [
    "### When designing and building an API, there are several important considerations to keep in mind:\n",
    "<li>User-Friendliness: The API should be easy to use and understand. This includes clear and concise naming conventions, consistent behavior, and comprehensive documentation.</li>\n",
    "<li>Security: Protecting user data and ensuring only authorized access to the API is crucial. This can involve using authentication protocols like OAuth, implementing rate limiting to prevent abuse, and encrypting sensitive data.</li>\n",
    "<li>Error Handling: The API should provide meaningful error messages and use appropriate HTTP status codes. This helps users of the API understand what went wrong when a request fails.</li>\n",
    "<li>Versioning: Changes and updates to the API should not break existing clients. This can be managed through versioning, where different versions of the API can be maintained simultaneously.</li>\n",
    "<li>Data Formats: Decide on what data formats your API will support. JSON is a common choice due to its lightweight nature and ease of use.</li>\n",
    "<li>Documentation: Good documentation is crucial for any API. It should clearly explain how to use the API, what each endpoint does, what parameters are required, and what the responses will be.</li>\n"
   ]
  }
 ],
 "metadata": {
  "kernelspec": {
   "display_name": "Python 3 (ipykernel)",
   "language": "python",
   "name": "python3"
  },
  "language_info": {
   "codemirror_mode": {
    "name": "ipython",
    "version": 3
   },
   "file_extension": ".py",
   "mimetype": "text/x-python",
   "name": "python",
   "nbconvert_exporter": "python",
   "pygments_lexer": "ipython3",
   "version": "3.9.6"
  }
 },
 "nbformat": 4,
 "nbformat_minor": 5
}
